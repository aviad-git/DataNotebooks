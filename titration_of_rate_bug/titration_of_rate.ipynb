{
 "cells": [
  {
   "cell_type": "markdown",
   "id": "eb3787c6",
   "metadata": {},
   "source": [
    "## Background"
   ]
  },
  {
   "cell_type": "markdown",
   "id": "1c8647ed",
   "metadata": {},
   "source": [
    "**Pump state to reproduce**\n",
    "1. version 16.50\n",
    "2. Medium Titration set to on (default is off)\n",
    "3. autherization level set to medium (default for Nurses)\n",
    "\n",
    "**Actions to reproduce**\n",
    "1. change rate\n",
    "\n",
    "**Results**\n",
    "\n",
    "prompt for authorization PIN -> fail\n",
    "\n",
    "**Expected results**\n",
    "\n",
    "Prompt for rate change -> rate change"
   ]
  },
  {
   "cell_type": "markdown",
   "id": "131704f2",
   "metadata": {},
   "source": [
    "## Analysis"
   ]
  },
  {
   "cell_type": "code",
   "execution_count": 2,
   "id": "7e49eb59",
   "metadata": {},
   "outputs": [],
   "source": [
    "import numpy as np\n",
    "import pandas as pd\n",
    "import matplotlib.pyplot as plt\n",
    "import seaborn as sns\n",
    "import os\n",
    "import re"
   ]
  },
  {
   "cell_type": "markdown",
   "id": "3fcd723d",
   "metadata": {},
   "source": [
    "### Importing raw data"
   ]
  },
  {
   "cell_type": "markdown",
   "id": "a946e880",
   "metadata": {},
   "source": [
    "Set dat paths"
   ]
  },
  {
   "cell_type": "code",
   "execution_count": 3,
   "id": "3ab94526",
   "metadata": {},
   "outputs": [],
   "source": [
    "data_path = os.getenv('SHARED_DATA_PATH')  # env variable for data storage\n",
    "logevents_path = os.path.join(data_path, r'titration_of_rate\\logevents.csv')\n",
    "logevents_233_path = os.path.join(data_path, r\"titration_of_rate\\233logevents.csv\")\n",
    "# these files are used to construct the total treatment list\n",
    "us_excel_data = os.path.join(data_path, r\"titration_of_rate\\us-treatments.xlsx\")\n",
    "eu_excel_data = os.path.join(data_path, r\"titration_of_rate\\eu-treatments.xlsx\")\n",
    "# this path points to the total treatments csv\n",
    "treatments_path = os.path.join(data_path, r\"titration_of_rate\\treatments.csv\")\n",
    "accountid_map_path = os.path.join(data_path, r\"static\\account_map.pkl\")"
   ]
  },
  {
   "cell_type": "markdown",
   "id": "d7826a67",
   "metadata": {},
   "source": [
    "Get a list of all pump serials that have listed event 233 (Medium titration) in history. Use this list to narrow down all subsequent data sets"
   ]
  },
  {
   "cell_type": "markdown",
   "id": "bf8909ae",
   "metadata": {},
   "source": [
    "logevents_233 is a table of all code 233 events in the elastic DB (only pumps with connect). This table maps all pumps which have the ```Medium Titration``` option set to **On**"
   ]
  },
  {
   "cell_type": "code",
   "execution_count": 4,
   "id": "b5f55c29",
   "metadata": {},
   "outputs": [
    {
     "name": "stdout",
     "output_type": "stream",
     "text": [
      "A total of 33 serials have Medium Titration set to 'On'\n",
      "Serial numbers:\n",
      " [300234268, 300235397, 300244687, 300273026, 300273182, 300292679, 300316813, 300316851, 300327020, 300332207, 300339933, 300353356, 300359779, 300386836, 300392585, 300405233, 300405239, 300411832, 300413333, 300413343, 300419458, 300419541, 300426241, 300428195, 300428226, 300433481, 360217960, 370022064, 370022098, 370031546, 380019718, 700035793, 700056618]\n"
     ]
    }
   ],
   "source": [
    "usecols = ['code','dateTime', 'index', 'serialNumber', 'values']  # values - string 'On', \n",
    "df_c233 = pd.read_csv(logevents_233_path, usecols=usecols)\n",
    "df_c233['dateTime'] = pd.to_datetime(df_c233['dateTime'], dayfirst=True)\n",
    "df_c233['index'] = df_c233['index'].str.replace(',', '').astype(int)  # elastic integer strings may contain commas\n",
    "df_c233.sort_values(by=['serialNumber', 'dateTime'])\n",
    "# Not shown: for this set all values are ON -> keep only the first occurrence for each serial\n",
    "df_c233 = df_c233.sort_values('dateTime').groupby('serialNumber', as_index=False).first()\n",
    "# get a list of all serials with Medium Titration set to On event in history\n",
    "serials = list([int(x) for x in df_c233['serialNumber'].unique()])\n",
    "print(f\"A total of {len(serials)} serials have Medium Titration set to 'On'\")\n",
    "print(f\"Serial numbers:\\n {serials}\")"
   ]
  },
  {
   "cell_type": "markdown",
   "id": "2e0da6b4",
   "metadata": {},
   "source": [
    "**Only 33 serials in total are recorded (on elastic) as being potentially effected by this bug**"
   ]
  },
  {
   "cell_type": "markdown",
   "id": "a92c6391",
   "metadata": {},
   "source": [
    "execute next block once to generate the full treatments CSV. Concatenates European and USA data, renames column serialNumber to serial_number and sets the correct data types.\n",
    "After running once the DataFrame can be loaded from ```treatments_path```."
   ]
  },
  {
   "cell_type": "markdown",
   "id": "ecb079d8",
   "metadata": {},
   "source": [
    "#### Import raw treatments"
   ]
  },
  {
   "cell_type": "code",
   "execution_count": 7,
   "id": "2c5f7da0",
   "metadata": {},
   "outputs": [
    {
     "name": "stdout",
     "output_type": "stream",
     "text": [
      "Treatments saved to: C:\\Users\\aviad.baram\\Data\\titration_of_rate\\treatments.csv as csv\n"
     ]
    }
   ],
   "source": [
    "# Helper function required to deal with negative values for 'duration' (bug in raw data) \n",
    "def safe_timedelta(x):\n",
    "    try:\n",
    "        return pd.to_timedelta(x)\n",
    "    except ValueError:\n",
    "        return pd.NaT\n",
    "\n",
    "# load excel data and merge\n",
    "us_treatments = pd.read_excel(us_excel_data)\n",
    "us_treatments['region'] = 'US'\n",
    "eu_treatments = pd.read_excel(eu_excel_data)\n",
    "eu_treatments['region'] = 'EU'\n",
    "# join European and USA data\n",
    "treatments = pd.concat([us_treatments, eu_treatments])\n",
    "# treatments.rename(columns={'serialNumber': 'serial_number'}, inplace=True)\n",
    "treatments['serialNumber'] = pd.to_numeric(treatments['serialNumber'], errors='coerce').astype('Int64')\n",
    "treatments['startTime'] = pd.to_datetime(treatments['startTime'], format='mixed')\n",
    "treatments['endTime'] = pd.to_datetime(treatments['endTime'], format='mixed')\n",
    "treatments['startTime'] = pd.to_datetime(treatments['startTime'], format='mixed')\n",
    "treatments['endTime'] = pd.to_datetime(treatments['endTime'], format='mixed')\n",
    "treatments['softwareUpdateTime'] = pd.to_datetime(treatments['endTime'], format='mixed')\n",
    "treatments['duration'] = treatments['duration'].apply(safe_timedelta)\n",
    "# Narrow down treatments to serials with Medium Titration set to On\n",
    "treatments = treatments[treatments['serialNumber'].isin(serials)]\n",
    "# Save to local CSV to save processing time in subsequent code execution\n",
    "treatments.to_csv(treatments_path, index=False)\n",
    "print(f\"Treatments saved to: {treatments_path} as csv\")"
   ]
  },
  {
   "cell_type": "code",
   "execution_count": 5,
   "id": "fd4058bd",
   "metadata": {},
   "outputs": [
    {
     "name": "stdout",
     "output_type": "stream",
     "text": [
      "Total treatments: 1407\n",
      "total available serials in treatments: 28\n",
      "Serials: [300419458 300353356 300339933 300359779 370022098 700035793 370031546\n",
      " 370022064 300413333 300392585 300316851 300235397 300327020 300292679\n",
      " 300413343 300234268 300419541 300428195 300405233 300405239 360217960\n",
      " 300433481 300428226 300386836 300273026 380019718 300411832 300426241]\n",
      "5 serials are not in the treatment data\n",
      "Missing serials:\n",
      "[300244687, 300273182, 300316813, 300332207, 700056618]\n"
     ]
    }
   ],
   "source": [
    "usecols = ['serialNumber', 'startTime', 'endTime' ,'duration', 'treatmentStatus', 'deliverMode', 'region', 'vi', 'vtbiExpected']\n",
    "treatments = pd.read_csv(treatments_path, usecols=usecols)\n",
    "treatment_serials = treatments['serialNumber'].unique()\n",
    "print(f\"Total treatments: {len(treatments.index)}\")\n",
    "print(f\"total available serials in treatments: {len(treatment_serials)}\")\n",
    "print(f\"Serials: {treatment_serials}\")\n",
    "print(f\"{len(serials) - len(treatment_serials)} serials are not in the treatment data\")\n",
    "m_serials = [sr for sr in serials if sr not in treatment_serials]\n",
    "print(f\"Missing serials:\\n{m_serials}\")"
   ]
  },
  {
   "cell_type": "markdown",
   "id": "e0fc370e",
   "metadata": {},
   "source": [
    "Five serials that recorded a 233 event (i.e. Medium Titration set to On) are missing from data ⇨ not associated with customer id ⇨ assumed these are demonstration pumps\n",
    "\n",
    "### Estimation of all affected pumps: Elastic represents 2.5% of the data ⇨ estimated total affected fleet: 1100 pumps"
   ]
  },
  {
   "cell_type": "code",
   "execution_count": 6,
   "id": "f907ea28",
   "metadata": {},
   "outputs": [
    {
     "data": {
      "application/vnd.microsoft.datawrangler.viewer.v0+json": {
       "columns": [
        {
         "name": "index",
         "rawType": "int64",
         "type": "integer"
        },
        {
         "name": "serialNumber",
         "rawType": "int64",
         "type": "integer"
        },
        {
         "name": "treatmentStatus",
         "rawType": "object",
         "type": "string"
        },
        {
         "name": "startTime",
         "rawType": "object",
         "type": "string"
        },
        {
         "name": "endTime",
         "rawType": "object",
         "type": "unknown"
        },
        {
         "name": "duration",
         "rawType": "object",
         "type": "unknown"
        },
        {
         "name": "vi",
         "rawType": "float64",
         "type": "float"
        },
        {
         "name": "vtbiExpected",
         "rawType": "float64",
         "type": "float"
        },
        {
         "name": "deliverMode",
         "rawType": "object",
         "type": "string"
        },
        {
         "name": "region",
         "rawType": "object",
         "type": "string"
        }
       ],
       "ref": "9cb37cf5-3657-479b-a488-e72d8aee3313",
       "rows": [
        [
         "0",
         "300419458",
         "Completed",
         "2025-05-13 08:03:57+00:00",
         "2025-05-13 22:22:12+00:00",
         null,
         "128.0",
         "128.0",
         "Continuous",
         "US"
        ],
        [
         "1",
         "300419458",
         "Completed",
         "2025-05-13 22:22:28+00:00",
         "2025-05-16 07:32:31+00:00",
         "2 days 09:10:03",
         "128.0",
         "128.0",
         "Continuous",
         "US"
        ],
        [
         "2",
         "300419458",
         "Partial",
         "2025-05-16 08:53:00+00:00",
         "2025-05-18 14:39:38+00:00",
         "2 days 05:46:38",
         "88.0",
         "1032.0",
         "Continuous",
         "US"
        ],
        [
         "3",
         "300419458",
         "Completed",
         "2025-05-18 14:41:06+00:00",
         "2025-05-23 16:21:07+00:00",
         "5 days 01:40:01",
         "682.0",
         "650.0",
         "Continuous",
         "US"
        ],
        [
         "4",
         "300419458",
         "Ongoing",
         "2025-05-25 03:34:23+00:00",
         null,
         null,
         "22.0",
         "650.0",
         "Continuous",
         "US"
        ]
       ],
       "shape": {
        "columns": 9,
        "rows": 5
       }
      },
      "text/html": [
       "<div>\n",
       "<style scoped>\n",
       "    .dataframe tbody tr th:only-of-type {\n",
       "        vertical-align: middle;\n",
       "    }\n",
       "\n",
       "    .dataframe tbody tr th {\n",
       "        vertical-align: top;\n",
       "    }\n",
       "\n",
       "    .dataframe thead th {\n",
       "        text-align: right;\n",
       "    }\n",
       "</style>\n",
       "<table border=\"1\" class=\"dataframe\">\n",
       "  <thead>\n",
       "    <tr style=\"text-align: right;\">\n",
       "      <th></th>\n",
       "      <th>serialNumber</th>\n",
       "      <th>treatmentStatus</th>\n",
       "      <th>startTime</th>\n",
       "      <th>endTime</th>\n",
       "      <th>duration</th>\n",
       "      <th>vi</th>\n",
       "      <th>vtbiExpected</th>\n",
       "      <th>deliverMode</th>\n",
       "      <th>region</th>\n",
       "    </tr>\n",
       "  </thead>\n",
       "  <tbody>\n",
       "    <tr>\n",
       "      <th>0</th>\n",
       "      <td>300419458</td>\n",
       "      <td>Completed</td>\n",
       "      <td>2025-05-13 08:03:57+00:00</td>\n",
       "      <td>2025-05-13 22:22:12+00:00</td>\n",
       "      <td>NaN</td>\n",
       "      <td>128.0</td>\n",
       "      <td>128.0</td>\n",
       "      <td>Continuous</td>\n",
       "      <td>US</td>\n",
       "    </tr>\n",
       "    <tr>\n",
       "      <th>1</th>\n",
       "      <td>300419458</td>\n",
       "      <td>Completed</td>\n",
       "      <td>2025-05-13 22:22:28+00:00</td>\n",
       "      <td>2025-05-16 07:32:31+00:00</td>\n",
       "      <td>2 days 09:10:03</td>\n",
       "      <td>128.0</td>\n",
       "      <td>128.0</td>\n",
       "      <td>Continuous</td>\n",
       "      <td>US</td>\n",
       "    </tr>\n",
       "    <tr>\n",
       "      <th>2</th>\n",
       "      <td>300419458</td>\n",
       "      <td>Partial</td>\n",
       "      <td>2025-05-16 08:53:00+00:00</td>\n",
       "      <td>2025-05-18 14:39:38+00:00</td>\n",
       "      <td>2 days 05:46:38</td>\n",
       "      <td>88.0</td>\n",
       "      <td>1032.0</td>\n",
       "      <td>Continuous</td>\n",
       "      <td>US</td>\n",
       "    </tr>\n",
       "    <tr>\n",
       "      <th>3</th>\n",
       "      <td>300419458</td>\n",
       "      <td>Completed</td>\n",
       "      <td>2025-05-18 14:41:06+00:00</td>\n",
       "      <td>2025-05-23 16:21:07+00:00</td>\n",
       "      <td>5 days 01:40:01</td>\n",
       "      <td>682.0</td>\n",
       "      <td>650.0</td>\n",
       "      <td>Continuous</td>\n",
       "      <td>US</td>\n",
       "    </tr>\n",
       "    <tr>\n",
       "      <th>4</th>\n",
       "      <td>300419458</td>\n",
       "      <td>Ongoing</td>\n",
       "      <td>2025-05-25 03:34:23+00:00</td>\n",
       "      <td>NaN</td>\n",
       "      <td>NaN</td>\n",
       "      <td>22.0</td>\n",
       "      <td>650.0</td>\n",
       "      <td>Continuous</td>\n",
       "      <td>US</td>\n",
       "    </tr>\n",
       "  </tbody>\n",
       "</table>\n",
       "</div>"
      ],
      "text/plain": [
       "   serialNumber treatmentStatus                  startTime  \\\n",
       "0     300419458       Completed  2025-05-13 08:03:57+00:00   \n",
       "1     300419458       Completed  2025-05-13 22:22:28+00:00   \n",
       "2     300419458         Partial  2025-05-16 08:53:00+00:00   \n",
       "3     300419458       Completed  2025-05-18 14:41:06+00:00   \n",
       "4     300419458         Ongoing  2025-05-25 03:34:23+00:00   \n",
       "\n",
       "                     endTime         duration     vi  vtbiExpected  \\\n",
       "0  2025-05-13 22:22:12+00:00              NaN  128.0         128.0   \n",
       "1  2025-05-16 07:32:31+00:00  2 days 09:10:03  128.0         128.0   \n",
       "2  2025-05-18 14:39:38+00:00  2 days 05:46:38   88.0        1032.0   \n",
       "3  2025-05-23 16:21:07+00:00  5 days 01:40:01  682.0         650.0   \n",
       "4                        NaN              NaN   22.0         650.0   \n",
       "\n",
       "  deliverMode region  \n",
       "0  Continuous     US  \n",
       "1  Continuous     US  \n",
       "2  Continuous     US  \n",
       "3  Continuous     US  \n",
       "4  Continuous     US  "
      ]
     },
     "execution_count": 6,
     "metadata": {},
     "output_type": "execute_result"
    }
   ],
   "source": [
    "treatments.head()"
   ]
  },
  {
   "cell_type": "markdown",
   "id": "9e7359d4",
   "metadata": {},
   "source": [
    "### Import raw events"
   ]
  },
  {
   "cell_type": "code",
   "execution_count": 19,
   "id": "48db02fc",
   "metadata": {},
   "outputs": [
    {
     "name": "stdout",
     "output_type": "stream",
     "text": [
      "Total events: 334870\n",
      "total available serials in events: 33\n",
      "Serials: [300428195 300405239 300413333 300235397 300327020 300392585 300316851\n",
      " 300413343 370022098 300359779 300332207 360217960 300339933 370031546\n",
      " 370022064 300316813 300419541 300244687 300405233 300433481 300426241\n",
      " 300428226 300292679 300273026 380019718 300411832 300386836 300234268\n",
      " 300273182 300353356 300419458 700056618 700035793]\n"
     ]
    }
   ],
   "source": [
    "usecols = ['code', 'dateTime', 'description', 'serialNumber', 'index', 'values']\n",
    "events = pd.read_csv(logevents_path, usecols=usecols)\n",
    "# for debugging and testing - after : remove next line\n",
    "# events = pd.read_csv(test_path, usecols=usecols)\n",
    "events['dateTime'] = pd.to_datetime(events['dateTime'], format='mixed')\n",
    "events['dateTime'] = events['dateTime'].dt.tz_localize('UTC')\n",
    "events.sort_values(by=['serialNumber', 'dateTime'])\n",
    "events = events[events['serialNumber'].isin(serials)]\n",
    "print(f\"Total events: {len(events.index)}\")\n",
    "print(f\"total available serials in events: {len(events['serialNumber'].unique())}\")\n",
    "print(f\"Serials: {events['serialNumber'].unique()}\")"
   ]
  },
  {
   "cell_type": "code",
   "execution_count": 20,
   "id": "677007c8",
   "metadata": {},
   "outputs": [
    {
     "name": "stdout",
     "output_type": "stream",
     "text": [
      "After selecting codes:\n",
      "Total events: 61199\n"
     ]
    }
   ],
   "source": [
    "# set the codes required from the exhaustive list of \n",
    "codes = [233, # authorization level set to On\n",
    "    376, # rate was changed - Normal: expected in 16.20\n",
    "    387, # Invalid password attempt - Bug expected in 16.50 when attempting Medium Titration\n",
    "     58, # authorization level changed value: Low, Medium,High,Technician\n",
    "     51, # delivery mode Continuous,Intermittent,TPN,PCA,Secondary,Multi-step,Epidural PCA,Epidural Intermittent,Epidural. sanity check against treatments\n",
    "     57, # power on. Resets Technician modes to Medium\n",
    "     73, # new infusion started\n",
    "     222, # new treatment wizard initiated - indication of started\n",
    "     74, # pump started\n",
    "     123, # SW version stored in value\n",
    "     130  # infusion ended with info\n",
    "    ]\n",
    "events = events[events['code'].isin(codes)]\n",
    "print(\"After selecting codes:\")\n",
    "print(f\"Total events: {len(events.index)}\")"
   ]
  },
  {
   "cell_type": "markdown",
   "id": "c5bebddb",
   "metadata": {},
   "source": [
    "This function is required to strip array values of the literal array characters. In elastice the arrays ['16', 'Technician'] is stored as the string \"'['16', 'Tecnician']'\""
   ]
  },
  {
   "cell_type": "code",
   "execution_count": 22,
   "id": "8e571a38",
   "metadata": {},
   "outputs": [],
   "source": [
    "def clean_auth_value(val):\n",
    "    # Extracts the word inside the brackets and quotes, e.g., \"['High']\" -> 'High'\n",
    "    match = re.match(r\"\\['(.+)'\\]\", str(val))\n",
    "    if match:\n",
    "        return match.group(1)\n",
    "    return val"
   ]
  },
  {
   "cell_type": "markdown",
   "id": "9389c74e",
   "metadata": {},
   "source": [
    "This function iterates over the events in their chrnological order. It maintains an updated state of the pump and assigns each event a series of attributes representing: state of ```Medium Titration``` setting,  Authorization level, selected infusion mode, software version and a state change flag. The state change flag indicates that the state of the pump changed following this event. "
   ]
  },
  {
   "cell_type": "code",
   "execution_count": 23,
   "id": "0f0a7521",
   "metadata": {},
   "outputs": [
    {
     "name": "stderr",
     "output_type": "stream",
     "text": [
      "C:\\Users\\aviad.baram\\AppData\\Local\\Temp\\ipykernel_62904\\2813576691.py:59: FutureWarning: Setting an item of incompatible dtype is deprecated and will raise an error in a future version of pandas. Value '[False, False, False, False, False, False, False, False, False, False, False, False, False, False, False, False, False, False, False, False, False, False, False, False, False, False, False, False, False, False, False, False, False, False, False, False, False, False, False, False, False, False, False, False, False, False, False, False, False, False, False, False, False, False, False, False, False, False, False, False, False, False, False, False, False, False, False, False, False, False, False, False, False, False, False, False, False, False, False, False, False, False, False, False, False, False, False, False, False, False, False, False, False, False, False, False, False, False, False, True, True, True, True, True, True, True, True, True, True, True, True, True, True, True, True, True, True, True, True, True, True, True, True, True, True, True, True, True, True, True, True, True, True, True, True, True, True, True, True]' has dtype incompatible with float64, please explicitly cast to a compatible dtype first.\n",
      "  events_df.loc[serial_events.index, 'med_tit'] = med_tit\n",
      "C:\\Users\\aviad.baram\\AppData\\Local\\Temp\\ipykernel_62904\\2813576691.py:63: FutureWarning: Setting an item of incompatible dtype is deprecated and will raise an error in a future version of pandas. Value '[False, True, True, False, False, False, False, False, True, False, True, False, True, True, True, False, True, False, False, False, False, False, False, False, False, False, False, False, False, False, False, False, False, False, False, False, False, False, False, False, False, False, False, False, True, False, False, False, False, False, False, False, False, False, False, False, True, True, True, False, False, False, False, False, False, False, False, False, False, True, False, False, False, False, False, False, False, False, False, False, False, False, False, False, False, False, False, False, False, False, False, False, False, False, False, False, False, False, True, True, True, True, False, False, False, False, True, False, False, False, False, False, False, False, False, False, False, False, False, True, False, False, False, False, False, False, False, False, False, False, False, False, False, False, True, False, False, False, False]' has dtype incompatible with float64, please explicitly cast to a compatible dtype first.\n",
      "  events_df.loc[serial_events.index, 'status_change_flag'] = status_change_flag\n"
     ]
    }
   ],
   "source": [
    "def set_event_status(events_df):\n",
    "    \"\"\"\n",
    "    Iterates over all serials in events_df. For each event in a serial set:\n",
    "    Sets a status flag 'med_tit'. The flag starts at 'Off', is set to 'On' if code 233 with value 'On' is encountered, and set back to 'Off' if code 233 with value 'Off' is encountered.\n",
    "    Sets a value flag for 'level'. The level flag changes on event code 58 and persists from then on excluding Technician level which also resets on pump start\n",
    "    Sets a value for 'mode'. The mode flag \n",
    "    \n",
    "    \"\"\"\n",
    "    events_df = events_df.copy()\n",
    "    for serial in events_df['serialNumber'].unique():\n",
    "        serial_mask = events_df['serialNumber'] == serial\n",
    "        serial_events = events_df[serial_mask].sort_values('dateTime')\n",
    "        med_tit = []\n",
    "        levels = []\n",
    "        modes = []\n",
    "        version = []\n",
    "        status_change_flag = []\n",
    "        current_value = {'med_tit': False, 'mode':'', 'level':'Medium', 'version':''}  # med_titration is Off by default\n",
    "        for idx, row in serial_events.iterrows():\n",
    "            status_change_f = False\n",
    "            if row['code'] == 233:  # Medium Titration setting change event. Values are 'On' and 'Off'\n",
    "                if clean_auth_value(row['values']).lower() == 'on':\n",
    "                    med_t = True\n",
    "                else:\n",
    "                    med_t = False\n",
    "                if med_t != current_value['med_tit']:\n",
    "                    current_value['med_tit'] = med_t\n",
    "                    status_change_f = True\n",
    "            if row['code'] == 58:  # Authorization level change event. \n",
    "                lvl = clean_auth_value(row['values'])\n",
    "                if lvl != current_value['level']:\n",
    "                    current_value['level'] = lvl\n",
    "                    status_change_f = True\n",
    "            if row['code'] == 57:  # system start event. Resets level Technician to Medium\n",
    "                if current_value['level'] == 'Technician':\n",
    "                    current_value['level'] = 'Medium'\n",
    "                    status_change_f = True\n",
    "            if row['code'] == 51:  # Infusion mode set event\n",
    "                md = clean_auth_value(row['values'])\n",
    "                if md != current_value['mode']:\n",
    "                    current_value['mode'] = md\n",
    "                    status_change_f = True\n",
    "            if row['code'] == 123:  # version update event\n",
    "                try:\n",
    "                    vr = eval(row['values'])\n",
    "                except:\n",
    "                    vr = row['values'].split(',')\n",
    "                    vr = [x.strip() for x in vr]\n",
    "                vr = vr[0] + '.' + vr[1]\n",
    "                if vr != current_value['version']:\n",
    "                    current_value['version'] = vr\n",
    "                    status_change_f = True\n",
    "            levels.append(current_value['level'])\n",
    "            med_tit.append(current_value['med_tit'])\n",
    "            modes.append(current_value['mode'])\n",
    "            version.append(current_value['version'])\n",
    "            status_change_flag.append(status_change_f)\n",
    "            # Assign lists to the DataFrame for this serial\n",
    "        events_df.loc[serial_events.index, 'med_tit'] = med_tit\n",
    "        events_df.loc[serial_events.index, 'level'] = levels\n",
    "        events_df.loc[serial_events.index, 'mode'] = modes\n",
    "        events_df.loc[serial_events.index, 'version'] = version\n",
    "        events_df.loc[serial_events.index, 'status_change_flag'] = status_change_flag\n",
    "    return events_df\n",
    "\n",
    "# mark med titration state and level\n",
    "events = set_event_status(events)\n"
   ]
  },
  {
   "cell_type": "markdown",
   "id": "99c987e5",
   "metadata": {},
   "source": [
    "Assign events to treatments"
   ]
  },
  {
   "cell_type": "code",
   "execution_count": null,
   "id": "2c6a7cb2",
   "metadata": {},
   "outputs": [],
   "source": [
    "# count the total number of Medium level 376 type events\n",
    "def assign_treatment_label(row, treatments_df, available_serials):\n",
    "    serial = row['serialNumber']\n",
    "    if serial not in available_serials:\n",
    "        return 'serial_missing'\n",
    "    matches = treatments_df[\n",
    "        (treatments_df['serialNumber'] == serial) &\n",
    "        (treatments_df['startTime'] <= row['dateTime']) &\n",
    "        (treatments_df['endTime'] >= row['dateTime'])\n",
    "    ]\n",
    "    if not matches.empty:\n",
    "        return matches.index[0]  # or use another unique treatment identifier\n",
    "    else:\n",
    "        return 'out_of_treatment'\n",
    "\n",
    "# Precompute available serials for efficiency\n",
    "available_serials = set(treatments['serialNumber'].unique())\n",
    "\n",
    "# Assign treatment label to each event\n",
    "events['treatment_assignment'] = events.apply(\n",
    "    lambda row: assign_treatment_label(row, treatments, available_serials), axis=1\n",
    ")\n",
    "\n",
    "version_info = treatments.loc[treatments['serialNumber'].isin(available_serials)]\n",
    "# a total of 341 treatments are identified\n",
    "def assign_version_flag(row):\n",
    "    # If not associated with a treatment, assign 'NA'\n",
    "    if pd.isna(row['treatment_assignment']):\n",
    "        return 'NA'\n",
    "    # If last_software_update is after the event, assign 'ambigious'\n",
    "    if pd.isna(row['last_software_update']):\n",
    "        return 'ambigious'\n",
    "    if row['last_software_update'] > row['dateTime']:\n",
    "        return 'ambagious'\n",
    "    # Otherwise, assign the current_software_version\n",
    "    return row['current_software_version']\n",
    "\n",
    "events['version_flag'] = events.apply(assign_version_flag, axis=1)"
   ]
  },
  {
   "cell_type": "markdown",
   "id": "701362c5",
   "metadata": {},
   "source": [
    "calculate probabilities"
   ]
  },
  {
   "cell_type": "code",
   "execution_count": 30,
   "id": "62740da2",
   "metadata": {},
   "outputs": [
    {
     "name": "stdout",
     "output_type": "stream",
     "text": [
      "Total events of rate change in 16.20: 2\n",
      "Probability of rate change in 16.20: NaN\n",
      "Total events of rate change in 16.50: 0 \n",
      "Probability of rate change in 16.50: NaN\n",
      "Total events of authorization failure in 16.20: 147 \n",
      "Probability of authorization failure change in 16.20: NaN\n",
      "Total events of authorization failure in 16.50: 35 \n"
     ]
    }
   ],
   "source": [
    "#count_med_titration\n",
    "count_rate_change_16_20_idx  = events.loc[(events['version'] == '16.20')  &\n",
    "                                      (events['code'] == 376) &\n",
    "                                      (events['level'] == 'Medium') &\n",
    "                                      (events['med_tit'])].index\n",
    "count_rate_change_16_50_idx  = events.loc[(events['version'] == '16.50')  &\n",
    "                                      (events['code'] == 376) &\n",
    "                                      (events['level'] == 'Medium') &\n",
    "                                      (events['med_tit'])].index\n",
    "count_16_20_treatments = len(events.loc[(events['version'].str.startswith('16.2')) &\n",
    "                                    events['code'] == 73].index)\n",
    "count_16_50_treatments = len(events.loc[(events['version'].str.startswith('16.5')) &\n",
    "                                    events['code'] == 73].index)\n",
    "print(f\"Total events of rate change in 16.20: {len(count_rate_change_16_20_idx)}\")\n",
    "try:\n",
    "    prob = len(count_rate_change_16_20_idx)/ count_16_20_treatments\n",
    "except ZeroDivisionError:\n",
    "    prob = 'NaN'    \n",
    "print(f\"Probability of rate change in 16.20: {prob}\")\n",
    "print(f\"Total events of rate change in 16.50: {len(count_rate_change_16_50_idx)} \")\n",
    "try:\n",
    "    prob = len(count_rate_change_16_50_idx)/ count_16_50_treatments\n",
    "except ZeroDivisionError:\n",
    "    prob = 'NaN'\n",
    "print(f\"Probability of rate change in 16.50: {prob}\")\n",
    "count_auth_fail_16_20_idx  = events.loc[(events['version'] == '16.20')  &\n",
    "                                      (events['code'] == 387) &\n",
    "                                      (events['level'] == 'Medium') & # (Required High entered Medium)\n",
    "                                      (events['med_tit'])].index\n",
    "count_auth_fail_16_50_idx  = events.loc[(events['version'] == '16.50')  &\n",
    "                                      (events['code'] == 387) &\n",
    "                                      (events['level'] == 'Medium') &\n",
    "                                      (events['med_tit'])].index\n",
    "count_16_50_treatments = events.loc[(events['version'].str.startswith('16.5')) &\n",
    "                                    events['code'] == 73].count()\n",
    "print(f\"Total events of authorization failure in 16.20: {len(count_auth_fail_16_20_idx)} \")\n",
    "try:\n",
    "    prob = len(count_auth_fail_16_20_idx)/ count_16_20_treatments\n",
    "except ZeroDivisionError:\n",
    "    prob = 'NaN'    \n",
    "print(f\"Probability of authorization failure change in 16.20: {prob}\")\n",
    "\n",
    "print(f\"Total events of authorization failure in 16.50: {len(count_auth_fail_16_50_idx)} \")\n",
    "try:\n",
    "    prob = len(count_auth_fail_16_50_idx)/ count_16_50_treatments\n",
    "except ZeroDivisionError:\n",
    "    prob = 'NaN'\n",
    "# print(prob)                   \n",
    "# print(f\"Probability of authorization failure change in 16.50: {prob}\")"
   ]
  },
  {
   "cell_type": "code",
   "execution_count": 85,
   "id": "3ea1a1b4",
   "metadata": {},
   "outputs": [
    {
     "data": {
      "text/plain": [
       "Index([ 80091,  80115,  81390,  82255,  83961,  84795,  84819,  85065,  89069,\n",
       "        93339,  99385, 104879, 115526, 115545, 138067, 140211, 145747, 150131,\n",
       "       154243, 154787, 155555, 156323, 157395, 314306, 314307, 314313, 314345,\n",
       "       314346, 314422, 314424, 314427, 314449, 314450, 314622, 314623],\n",
       "      dtype='int64')"
      ]
     },
     "execution_count": 85,
     "metadata": {},
     "output_type": "execute_result"
    }
   ],
   "source": [
    "count_auth_fail_16_50_idx"
   ]
  },
  {
   "cell_type": "code",
   "execution_count": null,
   "id": "df555f67",
   "metadata": {},
   "outputs": [],
   "source": []
  }
 ],
 "metadata": {
  "kernelspec": {
   "display_name": ".venv",
   "language": "python",
   "name": "python3"
  },
  "language_info": {
   "codemirror_mode": {
    "name": "ipython",
    "version": 3
   },
   "file_extension": ".py",
   "mimetype": "text/x-python",
   "name": "python",
   "nbconvert_exporter": "python",
   "pygments_lexer": "ipython3",
   "version": "3.13.5"
  }
 },
 "nbformat": 4,
 "nbformat_minor": 5
}
