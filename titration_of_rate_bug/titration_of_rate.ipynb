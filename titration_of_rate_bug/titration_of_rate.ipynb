{
 "cells": [
  {
   "cell_type": "markdown",
   "id": "8bd1c799",
   "metadata": {},
   "source": [
    "# Titration of Rate 16.50 bug analysis"
   ]
  },
  {
   "cell_type": "markdown",
   "id": "11c27998",
   "metadata": {},
   "source": [
    "## Object\n",
    "\n",
    "Analysis of the impact of 16.50 Medium titration bug"
   ]
  },
  {
   "cell_type": "markdown",
   "id": "eb3787c6",
   "metadata": {},
   "source": [
    "## Background"
   ]
  },
  {
   "cell_type": "markdown",
   "id": "334e5a22",
   "metadata": {},
   "source": [
    "### To reproduce\n",
    "\n",
    "1. activate configuration : Medium Titration (default is off) set to On. Generates log event 233 with values 'On'/'Off'\n",
    "2. set authorization level set to **Medium**. Generates log event 58 . Autherization level set with values: 'Technician', 'High', 'Medium', 'Low'.\n",
    "3. Under Medium authorization New is blocked. Start via repeat last. May be common in epidural mode in UK\n",
    "4. Change rate\n",
    "   1. Normal: Under 16.20 Generates log event 376. Rate was changed\n",
    "   2. Bug: under 16.50 prompts for key and generates log event 387. Authorization fail ['High', 'Medium']"
   ]
  },
  {
   "cell_type": "markdown",
   "id": "7275c397",
   "metadata": {},
   "source": [
    "### Summary of required log events for analysis\n",
    "\n",
    "| Event code | Description | Variable | Details |\n",
    "|----------|----------|----------|----------|\n",
    "| 233 | Medium Authorization level titration set to | On,Off | required state to reproduce error|\n",
    "| 376 | rate was changed | new rate | Expected in 16.20 only         |\n",
    "| 58 | Authorization level changed | Low,Medium,High,Technician | Medium state required to reproduce error|\n",
    "| 51 | Delivery mode |Continuous, Intermittent, TPN, PCA, Secondary, Multi-step, Epidural PCA, Epidural Intermittent, Epidural| Required to monitor failure modes |\n",
    "| 387 | Invalid password attempt | [High, Medium]| Expected log event in failed 16.50 rate change|\n",
    "| 57 | Power On| | Resets authorization level from Technician to Medium|\n",
    "| 73 | New infusion started | | Indicates a Technician/High authorization infusion start |\n",
    "| 222 | New Treatment Wizard Initiated | | Indicates a new infusion treatment|\n",
    "|202 | Repeat last infusion | | Indicates milestone in Medium authorization infusion start |\n",
    "|123 | SW version updrade | major version, minor version| Indicates version change|\n",
    "|130| Infusion ended with info| Info| Indicates end of infusion|"
   ]
  },
  {
   "cell_type": "markdown",
   "id": "131704f2",
   "metadata": {},
   "source": [
    "## Analysis"
   ]
  },
  {
   "cell_type": "code",
   "execution_count": 2,
   "id": "7e49eb59",
   "metadata": {},
   "outputs": [],
   "source": [
    "import numpy as np\n",
    "import pandas as pd\n",
    "import matplotlib.pyplot as plt\n",
    "from statsmodels.stats.proportion import proportions_ztest\n",
    "import seaborn as sns\n",
    "import os\n",
    "import re"
   ]
  },
  {
   "cell_type": "markdown",
   "id": "3fcd723d",
   "metadata": {},
   "source": [
    "### Importing raw data"
   ]
  },
  {
   "cell_type": "markdown",
   "id": "a946e880",
   "metadata": {},
   "source": [
    "Set raw data paths"
   ]
  },
  {
   "cell_type": "code",
   "execution_count": 3,
   "id": "3ab94526",
   "metadata": {},
   "outputs": [],
   "source": [
    "data_path = os.getenv('SHARED_DATA_PATH')  # env variable for data storage\n",
    "logevents_path = os.path.join(data_path, r'titration_of_rate\\logevents.csv')\n",
    "logevents_233_path = os.path.join(data_path, r\"titration_of_rate\\233logevents.csv\")\n",
    "# these files are used to construct the total treatment list\n",
    "us_excel_data = os.path.join(data_path, r\"titration_of_rate\\us-treatments.xlsx\")\n",
    "eu_excel_data = os.path.join(data_path, r\"titration_of_rate\\eu-treatments.xlsx\")\n",
    "# this path points to the total treatments csv\n",
    "treatments_path = os.path.join(data_path, r\"titration_of_rate\\treatments.csv\")\n",
    "accountid_map_path = os.path.join(data_path, r\"static\\account_map.pkl\")"
   ]
  },
  {
   "cell_type": "markdown",
   "id": "d7826a67",
   "metadata": {},
   "source": [
    "Get a list of all pump serials that have listed event 233 (Medium titration) in history. Use this list to narrow down all subsequent data sets"
   ]
  },
  {
   "cell_type": "markdown",
   "id": "bf8909ae",
   "metadata": {},
   "source": [
    "logevents_233 is a table of all code 233 events in the elastic DB (only pumps with connect). This table maps all pumps which have the ```Medium Titration``` option set to **On**"
   ]
  },
  {
   "cell_type": "code",
   "execution_count": 4,
   "id": "b5f55c29",
   "metadata": {},
   "outputs": [
    {
     "name": "stdout",
     "output_type": "stream",
     "text": [
      "A total of 33 serials have Medium Titration set to 'On'\n",
      "Serial numbers:\n",
      " [300234268, 300235397, 300244687, 300273026, 300273182, 300292679, 300316813, 300316851, 300327020, 300332207, 300339933, 300353356, 300359779, 300386836, 300392585, 300405233, 300405239, 300411832, 300413333, 300413343, 300419458, 300419541, 300426241, 300428195, 300428226, 300433481, 360217960, 370022064, 370022098, 370031546, 380019718, 700035793, 700056618]\n"
     ]
    }
   ],
   "source": [
    "usecols = ['code','dateTime', 'index', 'serialNumber', 'values']  # values - string 'On', \n",
    "df_c233 = pd.read_csv(logevents_233_path, usecols=usecols)\n",
    "df_c233['dateTime'] = pd.to_datetime(df_c233['dateTime'], dayfirst=True)\n",
    "df_c233['index'] = df_c233['index'].str.replace(',', '').astype(int)  # elastic integer strings may contain commas\n",
    "df_c233.sort_values(by=['serialNumber', 'dateTime'])\n",
    "# Not shown: for this set all values are ON -> keep only the first occurrence for each serial\n",
    "df_c233 = df_c233.sort_values('dateTime').groupby('serialNumber', as_index=False).first()\n",
    "# get a list of all serials with Medium Titration set to On event in history\n",
    "serials = list([int(x) for x in df_c233['serialNumber'].unique()])\n",
    "print(f\"A total of {len(serials)} serials have Medium Titration set to 'On'\")\n",
    "print(f\"Serial numbers:\\n {serials}\")"
   ]
  },
  {
   "cell_type": "markdown",
   "id": "2e0da6b4",
   "metadata": {},
   "source": [
    "**Only 33 serials in total are recorded (on elastic) as being potentially effected by this bug**"
   ]
  },
  {
   "cell_type": "markdown",
   "id": "ecb079d8",
   "metadata": {},
   "source": [
    "#### Import raw treatments\n",
    "\n",
    "execute next block once to generate the full treatments CSV. Concatenates European and USA data, renames column serialNumber to serial_number and sets the correct data types.\n",
    "After running once the DataFrame can be loaded from ```treatments_path```."
   ]
  },
  {
   "cell_type": "code",
   "execution_count": 5,
   "id": "2c5f7da0",
   "metadata": {},
   "outputs": [
    {
     "name": "stdout",
     "output_type": "stream",
     "text": [
      "Imported 254189 treatments from US\n",
      "Imported 19495 treatments from EU\n",
      "Treatments saved to: C:\\Users\\aviad.baram\\Data\\titration_of_rate\\treatments.csv as csv\n"
     ]
    }
   ],
   "source": [
    "# Helper function required to deal with negative values for 'duration' (bug in raw data) \n",
    "def safe_timedelta(x):\n",
    "    try:\n",
    "        return pd.to_timedelta(x)\n",
    "    except ValueError:\n",
    "        return pd.NaT\n",
    "\n",
    "# load excel data and merge\n",
    "us_treatments = pd.read_excel(us_excel_data)\n",
    "us_treatments['region'] = 'US'\n",
    "print(f\"Imported {len(us_treatments.index)} treatments from US\")\n",
    "eu_treatments = pd.read_excel(eu_excel_data)\n",
    "eu_treatments['region'] = 'EU'\n",
    "print(f\"Imported {len(eu_treatments.index)} treatments from EU\")\n",
    "# join European and USA data\n",
    "treatments = pd.concat([us_treatments, eu_treatments])\n",
    "# treatments.rename(columns={'serialNumber': 'serial_number'}, inplace=True)\n",
    "treatments['serialNumber'] = pd.to_numeric(treatments['serialNumber'], errors='coerce').astype('Int64')\n",
    "treatments['startTime'] = pd.to_datetime(treatments['startTime'], format='mixed')\n",
    "treatments['endTime'] = pd.to_datetime(treatments['endTime'], format='mixed')\n",
    "treatments['startTime'] = pd.to_datetime(treatments['startTime'], format='mixed')\n",
    "treatments['endTime'] = pd.to_datetime(treatments['endTime'], format='mixed')\n",
    "treatments['softwareUpdateTime'] = pd.to_datetime(treatments['endTime'], format='mixed')\n",
    "treatments['duration'] = treatments['duration'].apply(safe_timedelta)\n",
    "# Narrow down treatments to serials with Medium Titration set to On\n",
    "treatments = treatments[treatments['serialNumber'].isin(serials)]\n",
    "# Save to local CSV to save processing time in subsequent code execution\n",
    "treatments.to_csv(treatments_path, index=False)\n",
    "print(f\"Treatments saved to: {treatments_path} as csv\")"
   ]
  },
  {
   "cell_type": "code",
   "execution_count": 6,
   "id": "fd4058bd",
   "metadata": {},
   "outputs": [
    {
     "name": "stdout",
     "output_type": "stream",
     "text": [
      "Total treatments: 1407\n",
      "total available serials in treatments: 28\n",
      "Serials: [300419458 300353356 300339933 300359779 370022098 700035793 370031546\n",
      " 370022064 300413333 300392585 300316851 300235397 300327020 300292679\n",
      " 300413343 300234268 300419541 300428195 300405233 300405239 360217960\n",
      " 300433481 300428226 300386836 300273026 380019718 300411832 300426241]\n",
      "5 serials are not in the treatment data\n",
      "Missing serials:\n",
      "[300244687, 300273182, 300316813, 300332207, 700056618]\n"
     ]
    }
   ],
   "source": [
    "usecols = ['serialNumber', 'startTime', 'endTime' ,'duration', 'treatmentStatus', 'deliverMode', 'region', 'accountProviderID', 'vi', 'vtbiExpected', 'softwareVersion',\n",
    "'softwareUpdateTime']\n",
    "treatments = pd.read_csv(treatments_path, usecols=usecols,  dtype={\n",
    "    'serialNumber': 'int64',\n",
    "    'treatmentStatus': 'string',\n",
    "    'deliverMode': 'string',\n",
    "    'region': 'string',\n",
    "    'vi': 'float64',\n",
    "    'accountProviderID': 'string',\n",
    "    'vtbiExpected': 'float64'},\n",
    "    parse_dates=['startTime', 'endTime', 'softwareUpdateTime'])\n",
    "# Convert column to timedelta after loading\n",
    "treatments['duration'] = pd.to_timedelta(treatments['duration'])\n",
    "treatment_serials = treatments['serialNumber'].unique()\n",
    "print(f\"Total treatments: {len(treatments.index)}\")\n",
    "print(f\"total available serials in treatments: {len(treatment_serials)}\")\n",
    "print(f\"Serials: {treatment_serials}\")\n",
    "print(f\"{len(serials) - len(treatment_serials)} serials are not in the treatment data\")\n",
    "m_serials = [sr for sr in serials if sr not in treatment_serials]\n",
    "print(f\"Missing serials:\\n{m_serials}\")"
   ]
  },
  {
   "cell_type": "code",
   "execution_count": 7,
   "id": "815812ac",
   "metadata": {},
   "outputs": [],
   "source": [
    "accounts = treatments.loc[treatments['serialNumber'].isin(treatment_serials), ['serialNumber', 'accountProviderID']]\n",
    "accounts = accounts.drop_duplicates(subset='serialNumber', keep='first')\n",
    "accountid_map = pd.read_pickle(accountid_map_path)\n",
    "accounts = accounts.merge(accountid_map, left_on='accountProviderID', right_on='accountid', how='left')\n",
    "accounts.drop(columns = ['accountProviderID', 'accountid'], inplace=True)"
   ]
  },
  {
   "cell_type": "markdown",
   "id": "e0fc370e",
   "metadata": {},
   "source": [
    "Five serials that recorded a 233 event (i.e. Medium Titration set to On) are missing from data ⇨ not associated with customer id ⇨ assumed these are demonstration pumps"
   ]
  },
  {
   "cell_type": "code",
   "execution_count": 8,
   "id": "f907ea28",
   "metadata": {},
   "outputs": [
    {
     "data": {
      "application/vnd.microsoft.datawrangler.viewer.v0+json": {
       "columns": [
        {
         "name": "index",
         "rawType": "int64",
         "type": "integer"
        },
        {
         "name": "accountProviderID",
         "rawType": "string",
         "type": "string"
        },
        {
         "name": "serialNumber",
         "rawType": "int64",
         "type": "integer"
        },
        {
         "name": "softwareVersion",
         "rawType": "object",
         "type": "string"
        },
        {
         "name": "softwareUpdateTime",
         "rawType": "datetime64[ns, UTC]",
         "type": "unknown"
        },
        {
         "name": "treatmentStatus",
         "rawType": "string",
         "type": "string"
        },
        {
         "name": "startTime",
         "rawType": "datetime64[ns, UTC]",
         "type": "unknown"
        },
        {
         "name": "endTime",
         "rawType": "datetime64[ns, UTC]",
         "type": "unknown"
        },
        {
         "name": "duration",
         "rawType": "timedelta64[ns]",
         "type": "unknown"
        },
        {
         "name": "vi",
         "rawType": "float64",
         "type": "float"
        },
        {
         "name": "vtbiExpected",
         "rawType": "float64",
         "type": "float"
        },
        {
         "name": "deliverMode",
         "rawType": "string",
         "type": "string"
        },
        {
         "name": "region",
         "rawType": "string",
         "type": "string"
        }
       ],
       "ref": "6c626647-5ac4-4ddb-b594-b7d42240c401",
       "rows": [
        [
         "0",
         "05e6c4b0-c98b-eec0-26fc-7d1d1b57cea4",
         "300419458",
         "16.50.02",
         "2025-05-13 22:22:12+00:00",
         "Completed",
         "2025-05-13 08:03:57+00:00",
         "2025-05-13 22:22:12+00:00",
         null,
         "128.0",
         "128.0",
         "Continuous",
         "US"
        ],
        [
         "1",
         "05e6c4b0-c98b-eec0-26fc-7d1d1b57cea4",
         "300419458",
         "16.50.02",
         "2025-05-16 07:32:31+00:00",
         "Completed",
         "2025-05-13 22:22:28+00:00",
         "2025-05-16 07:32:31+00:00",
         "2 days 09:10:03",
         "128.0",
         "128.0",
         "Continuous",
         "US"
        ],
        [
         "2",
         "05e6c4b0-c98b-eec0-26fc-7d1d1b57cea4",
         "300419458",
         "16.50.02",
         "2025-05-18 14:39:38+00:00",
         "Partial",
         "2025-05-16 08:53:00+00:00",
         "2025-05-18 14:39:38+00:00",
         "2 days 05:46:38",
         "88.0",
         "1032.0",
         "Continuous",
         "US"
        ],
        [
         "3",
         "05e6c4b0-c98b-eec0-26fc-7d1d1b57cea4",
         "300419458",
         "16.50.02",
         "2025-05-23 16:21:07+00:00",
         "Completed",
         "2025-05-18 14:41:06+00:00",
         "2025-05-23 16:21:07+00:00",
         "5 days 01:40:01",
         "682.0",
         "650.0",
         "Continuous",
         "US"
        ],
        [
         "4",
         "05e6c4b0-c98b-eec0-26fc-7d1d1b57cea4",
         "300419458",
         "16.50.02",
         null,
         "Ongoing",
         "2025-05-25 03:34:23+00:00",
         null,
         null,
         "22.0",
         "650.0",
         "Continuous",
         "US"
        ]
       ],
       "shape": {
        "columns": 12,
        "rows": 5
       }
      },
      "text/html": [
       "<div>\n",
       "<style scoped>\n",
       "    .dataframe tbody tr th:only-of-type {\n",
       "        vertical-align: middle;\n",
       "    }\n",
       "\n",
       "    .dataframe tbody tr th {\n",
       "        vertical-align: top;\n",
       "    }\n",
       "\n",
       "    .dataframe thead th {\n",
       "        text-align: right;\n",
       "    }\n",
       "</style>\n",
       "<table border=\"1\" class=\"dataframe\">\n",
       "  <thead>\n",
       "    <tr style=\"text-align: right;\">\n",
       "      <th></th>\n",
       "      <th>accountProviderID</th>\n",
       "      <th>serialNumber</th>\n",
       "      <th>softwareVersion</th>\n",
       "      <th>softwareUpdateTime</th>\n",
       "      <th>treatmentStatus</th>\n",
       "      <th>startTime</th>\n",
       "      <th>endTime</th>\n",
       "      <th>duration</th>\n",
       "      <th>vi</th>\n",
       "      <th>vtbiExpected</th>\n",
       "      <th>deliverMode</th>\n",
       "      <th>region</th>\n",
       "    </tr>\n",
       "  </thead>\n",
       "  <tbody>\n",
       "    <tr>\n",
       "      <th>0</th>\n",
       "      <td>05e6c4b0-c98b-eec0-26fc-7d1d1b57cea4</td>\n",
       "      <td>300419458</td>\n",
       "      <td>16.50.02</td>\n",
       "      <td>2025-05-13 22:22:12+00:00</td>\n",
       "      <td>Completed</td>\n",
       "      <td>2025-05-13 08:03:57+00:00</td>\n",
       "      <td>2025-05-13 22:22:12+00:00</td>\n",
       "      <td>NaT</td>\n",
       "      <td>128.0</td>\n",
       "      <td>128.0</td>\n",
       "      <td>Continuous</td>\n",
       "      <td>US</td>\n",
       "    </tr>\n",
       "    <tr>\n",
       "      <th>1</th>\n",
       "      <td>05e6c4b0-c98b-eec0-26fc-7d1d1b57cea4</td>\n",
       "      <td>300419458</td>\n",
       "      <td>16.50.02</td>\n",
       "      <td>2025-05-16 07:32:31+00:00</td>\n",
       "      <td>Completed</td>\n",
       "      <td>2025-05-13 22:22:28+00:00</td>\n",
       "      <td>2025-05-16 07:32:31+00:00</td>\n",
       "      <td>2 days 09:10:03</td>\n",
       "      <td>128.0</td>\n",
       "      <td>128.0</td>\n",
       "      <td>Continuous</td>\n",
       "      <td>US</td>\n",
       "    </tr>\n",
       "    <tr>\n",
       "      <th>2</th>\n",
       "      <td>05e6c4b0-c98b-eec0-26fc-7d1d1b57cea4</td>\n",
       "      <td>300419458</td>\n",
       "      <td>16.50.02</td>\n",
       "      <td>2025-05-18 14:39:38+00:00</td>\n",
       "      <td>Partial</td>\n",
       "      <td>2025-05-16 08:53:00+00:00</td>\n",
       "      <td>2025-05-18 14:39:38+00:00</td>\n",
       "      <td>2 days 05:46:38</td>\n",
       "      <td>88.0</td>\n",
       "      <td>1032.0</td>\n",
       "      <td>Continuous</td>\n",
       "      <td>US</td>\n",
       "    </tr>\n",
       "    <tr>\n",
       "      <th>3</th>\n",
       "      <td>05e6c4b0-c98b-eec0-26fc-7d1d1b57cea4</td>\n",
       "      <td>300419458</td>\n",
       "      <td>16.50.02</td>\n",
       "      <td>2025-05-23 16:21:07+00:00</td>\n",
       "      <td>Completed</td>\n",
       "      <td>2025-05-18 14:41:06+00:00</td>\n",
       "      <td>2025-05-23 16:21:07+00:00</td>\n",
       "      <td>5 days 01:40:01</td>\n",
       "      <td>682.0</td>\n",
       "      <td>650.0</td>\n",
       "      <td>Continuous</td>\n",
       "      <td>US</td>\n",
       "    </tr>\n",
       "    <tr>\n",
       "      <th>4</th>\n",
       "      <td>05e6c4b0-c98b-eec0-26fc-7d1d1b57cea4</td>\n",
       "      <td>300419458</td>\n",
       "      <td>16.50.02</td>\n",
       "      <td>NaT</td>\n",
       "      <td>Ongoing</td>\n",
       "      <td>2025-05-25 03:34:23+00:00</td>\n",
       "      <td>NaT</td>\n",
       "      <td>NaT</td>\n",
       "      <td>22.0</td>\n",
       "      <td>650.0</td>\n",
       "      <td>Continuous</td>\n",
       "      <td>US</td>\n",
       "    </tr>\n",
       "  </tbody>\n",
       "</table>\n",
       "</div>"
      ],
      "text/plain": [
       "                      accountProviderID  serialNumber softwareVersion  \\\n",
       "0  05e6c4b0-c98b-eec0-26fc-7d1d1b57cea4     300419458        16.50.02   \n",
       "1  05e6c4b0-c98b-eec0-26fc-7d1d1b57cea4     300419458        16.50.02   \n",
       "2  05e6c4b0-c98b-eec0-26fc-7d1d1b57cea4     300419458        16.50.02   \n",
       "3  05e6c4b0-c98b-eec0-26fc-7d1d1b57cea4     300419458        16.50.02   \n",
       "4  05e6c4b0-c98b-eec0-26fc-7d1d1b57cea4     300419458        16.50.02   \n",
       "\n",
       "         softwareUpdateTime treatmentStatus                 startTime  \\\n",
       "0 2025-05-13 22:22:12+00:00       Completed 2025-05-13 08:03:57+00:00   \n",
       "1 2025-05-16 07:32:31+00:00       Completed 2025-05-13 22:22:28+00:00   \n",
       "2 2025-05-18 14:39:38+00:00         Partial 2025-05-16 08:53:00+00:00   \n",
       "3 2025-05-23 16:21:07+00:00       Completed 2025-05-18 14:41:06+00:00   \n",
       "4                       NaT         Ongoing 2025-05-25 03:34:23+00:00   \n",
       "\n",
       "                    endTime        duration     vi  vtbiExpected deliverMode  \\\n",
       "0 2025-05-13 22:22:12+00:00             NaT  128.0         128.0  Continuous   \n",
       "1 2025-05-16 07:32:31+00:00 2 days 09:10:03  128.0         128.0  Continuous   \n",
       "2 2025-05-18 14:39:38+00:00 2 days 05:46:38   88.0        1032.0  Continuous   \n",
       "3 2025-05-23 16:21:07+00:00 5 days 01:40:01  682.0         650.0  Continuous   \n",
       "4                       NaT             NaT   22.0         650.0  Continuous   \n",
       "\n",
       "  region  \n",
       "0     US  \n",
       "1     US  \n",
       "2     US  \n",
       "3     US  \n",
       "4     US  "
      ]
     },
     "execution_count": 8,
     "metadata": {},
     "output_type": "execute_result"
    }
   ],
   "source": [
    "treatments.head()"
   ]
  },
  {
   "cell_type": "markdown",
   "id": "9e7359d4",
   "metadata": {},
   "source": [
    "### Import raw events"
   ]
  },
  {
   "cell_type": "code",
   "execution_count": 9,
   "id": "48db02fc",
   "metadata": {},
   "outputs": [
    {
     "name": "stdout",
     "output_type": "stream",
     "text": [
      "Total events: 334870\n",
      "total available serials in events: 33\n",
      "Serials: [300428195 300405239 300413333 300235397 300327020 300392585 300316851\n",
      " 300413343 370022098 300359779 300332207 360217960 300339933 370031546\n",
      " 370022064 300316813 300419541 300244687 300405233 300433481 300426241\n",
      " 300428226 300292679 300273026 380019718 300411832 300386836 300234268\n",
      " 300273182 300353356 300419458 700056618 700035793]\n"
     ]
    }
   ],
   "source": [
    "usecols = ['code', 'dateTime', 'description', 'serialNumber', 'index', 'values']\n",
    "events = pd.read_csv(logevents_path)\n",
    "events = pd.read_csv(logevents_path, usecols=usecols)\n",
    "# for debugging and testing - after : remove next line\n",
    "# events = pd.read_csv(test_path, usecols=usecols)\n",
    "events['dateTime'] = pd.to_datetime(events['dateTime'], format='mixed')\n",
    "events['dateTime'] = events['dateTime'].dt.tz_localize('UTC')\n",
    "events.sort_values(by=['serialNumber', 'dateTime'])\n",
    "events = events[events['serialNumber'].isin(serials)]\n",
    "print(f\"Total events: {len(events.index)}\")\n",
    "print(f\"total available serials in events: {len(events['serialNumber'].unique())}\")\n",
    "print(f\"Serials: {events['serialNumber'].unique()}\")"
   ]
  },
  {
   "cell_type": "code",
   "execution_count": 10,
   "id": "677007c8",
   "metadata": {},
   "outputs": [
    {
     "name": "stdout",
     "output_type": "stream",
     "text": [
      "After selecting codes:\n",
      "Total events: 62444\n"
     ]
    }
   ],
   "source": [
    "# set the codes required from the exhaustive list of \n",
    "codes = [233, # authorization level set to On\n",
    "    376, # rate was changed - Normal: expected in 16.20\n",
    "    387, # Invalid password attempt - Bug expected in 16.50 when attempting Medium Titration\n",
    "     58, # authorization level changed value: Low, Medium,High,Technician\n",
    "     51, # delivery mode Continuous,Intermittent,TPN,PCA,Secondary,Multi-step,Epidural PCA,Epidural Intermittent,Epidural. sanity check against treatments\n",
    "     57, # power on. Resets Technician modes to Medium\n",
    "     73, # new infusion started\n",
    "     222, # new treatment wizard initiated - indication of started\n",
    "     74, # pump started\n",
    "     202,  # repeat last infusion\n",
    "     123, # SW version stored in value\n",
    "     130  # infusion ended with info\n",
    "    ]\n",
    "events = events[events['code'].isin(codes)]\n",
    "print(\"After selecting codes:\")\n",
    "print(f\"Total events: {len(events.index)}\")"
   ]
  },
  {
   "cell_type": "markdown",
   "id": "c5bebddb",
   "metadata": {},
   "source": [
    "This function is required to strip array values of the literal array characters. In elastice the arrays ['16', 'Technician'] is stored as the string \"'['16', 'Tecnician']'\""
   ]
  },
  {
   "cell_type": "code",
   "execution_count": 11,
   "id": "8e571a38",
   "metadata": {},
   "outputs": [],
   "source": [
    "def clean_auth_value(val):\n",
    "    # Extracts the word inside the brackets and quotes, e.g., \"['High']\" -> 'High'\n",
    "    match = re.match(r\"\\['(.+)'\\]\", str(val))\n",
    "    if match:\n",
    "        return match.group(1)\n",
    "    return val"
   ]
  },
  {
   "cell_type": "markdown",
   "id": "9389c74e",
   "metadata": {},
   "source": [
    "This function iterates over the events in their chrnological order. It maintains an updated state of the pump and assigns each event a series of attributes representing: state of ```Medium Titration``` setting,  Authorization level, selected infusion mode, software version and a state change flag. The state change flag indicates that the state of the pump changed following this event. "
   ]
  },
  {
   "cell_type": "code",
   "execution_count": 12,
   "id": "0f0a7521",
   "metadata": {},
   "outputs": [
    {
     "name": "stderr",
     "output_type": "stream",
     "text": [
      "C:\\Users\\aviad.baram\\AppData\\Local\\Temp\\ipykernel_14956\\2813576691.py:59: FutureWarning: Setting an item of incompatible dtype is deprecated and will raise an error in a future version of pandas. Value '[False, False, False, False, False, False, False, False, False, False, False, False, False, False, False, False, False, False, False, False, False, False, False, False, False, False, False, False, False, False, False, False, False, False, False, False, False, False, False, False, False, False, False, False, False, False, False, False, False, False, False, False, False, False, False, False, False, False, False, False, False, False, False, False, False, False, False, False, False, False, False, False, False, False, False, False, False, False, False, False, False, False, False, False, False, False, False, False, False, False, False, False, False, False, False, False, False, False, False, False, False, True, True, True, True, True, True, True, True, True, True, True, True, True, True, True, True, True, True, True, True, True, True, True, True, True, True, True, True, True, True, True, True, True, True, True, True, True, True, True, True]' has dtype incompatible with float64, please explicitly cast to a compatible dtype first.\n",
      "  events_df.loc[serial_events.index, 'med_tit'] = med_tit\n",
      "C:\\Users\\aviad.baram\\AppData\\Local\\Temp\\ipykernel_14956\\2813576691.py:63: FutureWarning: Setting an item of incompatible dtype is deprecated and will raise an error in a future version of pandas. Value '[False, True, True, False, False, False, False, False, True, False, True, False, True, True, True, False, True, False, False, False, False, False, False, False, False, False, False, False, False, False, False, False, False, False, False, False, False, False, False, False, False, False, False, False, False, True, False, False, False, False, False, False, False, False, False, False, False, True, True, True, False, False, False, False, False, False, False, False, False, False, True, False, False, False, False, False, False, False, False, False, False, False, False, False, False, False, False, False, False, False, False, False, False, False, False, False, False, False, False, False, True, True, True, True, False, False, False, False, True, False, False, False, False, False, False, False, False, False, False, False, False, True, False, False, False, False, False, False, False, False, False, False, False, False, False, False, True, False, False, False, False]' has dtype incompatible with float64, please explicitly cast to a compatible dtype first.\n",
      "  events_df.loc[serial_events.index, 'status_change_flag'] = status_change_flag\n"
     ]
    }
   ],
   "source": [
    "def set_event_status(events_df):\n",
    "    \"\"\"\n",
    "    Iterates over all serials in events_df. For each event in a serial set:\n",
    "    Sets a status flag 'med_tit'. The flag starts at 'Off', is set to 'On' if code 233 with value 'On' is encountered, and set back to 'Off' if code 233 with value 'Off' is encountered.\n",
    "    Sets a value flag for 'level'. The level flag changes on event code 58 and persists from then on excluding Technician level which also resets on pump start\n",
    "    Sets a value for 'mode'. The mode flag \n",
    "    \n",
    "    \"\"\"\n",
    "    events_df = events_df.copy()\n",
    "    for serial in events_df['serialNumber'].unique():\n",
    "        serial_mask = events_df['serialNumber'] == serial\n",
    "        serial_events = events_df[serial_mask].sort_values('dateTime')\n",
    "        med_tit = []\n",
    "        levels = []\n",
    "        modes = []\n",
    "        version = []\n",
    "        status_change_flag = []\n",
    "        current_value = {'med_tit': False, 'mode':'', 'level':'Medium', 'version':''}  # med_titration is Off by default\n",
    "        for idx, row in serial_events.iterrows():\n",
    "            status_change_f = False\n",
    "            if row['code'] == 233:  # Medium Titration setting change event. Values are 'On' and 'Off'\n",
    "                if clean_auth_value(row['values']).lower() == 'on':\n",
    "                    med_t = True\n",
    "                else:\n",
    "                    med_t = False\n",
    "                if med_t != current_value['med_tit']:\n",
    "                    current_value['med_tit'] = med_t\n",
    "                    status_change_f = True\n",
    "            if row['code'] == 58:  # Authorization level change event. \n",
    "                lvl = clean_auth_value(row['values'])\n",
    "                if lvl != current_value['level']:\n",
    "                    current_value['level'] = lvl\n",
    "                    status_change_f = True\n",
    "            if row['code'] == 57:  # system start event. Resets level Technician to Medium\n",
    "                if current_value['level'] == 'Technician':\n",
    "                    current_value['level'] = 'Medium'\n",
    "                    status_change_f = True\n",
    "            if row['code'] == 51:  # Infusion mode set event\n",
    "                md = clean_auth_value(row['values'])\n",
    "                if md != current_value['mode']:\n",
    "                    current_value['mode'] = md\n",
    "                    status_change_f = True\n",
    "            if row['code'] == 123:  # version update event\n",
    "                try:\n",
    "                    vr = eval(row['values'])\n",
    "                except:\n",
    "                    vr = row['values'].split(',')\n",
    "                    vr = [x.strip() for x in vr]\n",
    "                vr = vr[0] + '.' + vr[1]\n",
    "                if vr != current_value['version']:\n",
    "                    current_value['version'] = vr\n",
    "                    status_change_f = True\n",
    "            levels.append(current_value['level'])\n",
    "            med_tit.append(current_value['med_tit'])\n",
    "            modes.append(current_value['mode'])\n",
    "            version.append(current_value['version'])\n",
    "            status_change_flag.append(status_change_f)\n",
    "            # Assign lists to the DataFrame for this serial\n",
    "        events_df.loc[serial_events.index, 'med_tit'] = med_tit\n",
    "        events_df.loc[serial_events.index, 'level'] = levels\n",
    "        events_df.loc[serial_events.index, 'mode'] = modes\n",
    "        events_df.loc[serial_events.index, 'version'] = version\n",
    "        events_df.loc[serial_events.index, 'status_change_flag'] = status_change_flag\n",
    "    return events_df\n",
    "\n",
    "# mark med titration state and level\n",
    "events = set_event_status(events)\n"
   ]
  },
  {
   "cell_type": "markdown",
   "id": "99c987e5",
   "metadata": {},
   "source": [
    "### Join events with treatments"
   ]
  },
  {
   "cell_type": "markdown",
   "id": "9d90fd0d",
   "metadata": {},
   "source": [
    "assign event to treatment"
   ]
  },
  {
   "cell_type": "code",
   "execution_count": 13,
   "id": "2c6a7cb2",
   "metadata": {},
   "outputs": [],
   "source": [
    "# count the total number of Medium level 376 type events\n",
    "def assign_treatment_label(row, treatments_df, available_serials):\n",
    "    serial = row['serialNumber']\n",
    "    if serial not in available_serials:\n",
    "        return 'serial_missing'\n",
    "    matches = treatments_df[\n",
    "        (treatments_df['serialNumber'] == serial) &\n",
    "        (treatments_df['startTime'] <= row['dateTime']) &\n",
    "        (treatments_df['endTime'] >= row['dateTime'])\n",
    "    ]\n",
    "    if not matches.empty:\n",
    "        return matches.index[0]  # return the treatments id\n",
    "    else:\n",
    "        return 'out_of_treatment'  # event occurred outside the context of treatment events\n",
    "\n",
    "# Precompute available serials for efficiency\n",
    "available_serials = set(treatments['serialNumber'].unique())\n",
    "\n",
    "# Assign treatment label to each event\n",
    "events['treatment_assignment'] = events.apply(\n",
    "    lambda row: assign_treatment_label(row, treatments, available_serials), axis=1\n",
    ")"
   ]
  },
  {
   "cell_type": "markdown",
   "id": "29b11063",
   "metadata": {},
   "source": [
    "Assign SW version to each event based on treatment assignment"
   ]
  },
  {
   "cell_type": "code",
   "execution_count": 14,
   "id": "d434b94b",
   "metadata": {},
   "outputs": [],
   "source": [
    "version_info = treatments.loc[treatments['serialNumber'].isin(available_serials)]\n",
    "# a total of 341 treatments are identified\n",
    "def assign_version_flag(row):\n",
    "    # If not associated with a treatment, assign 'NA'\n",
    "    if row['treatment_assignment'] in ('serial_missing', 'out_of_treatment')  or pd.isna(row['treatment_assignment']):\n",
    "        return 'NA'\n",
    "    # If last_software_update is after the event, assign 'ambiguous'\n",
    "    version = treatments.loc[row['treatment_assignment'],'softwareVersion']\n",
    "    update_time = treatments.loc[row['treatment_assignment'], 'softwareUpdateTime']\n",
    "    if update_time > row['dateTime']:  # update occurred after event time stamp\n",
    "        return 'ambiguous'\n",
    "    # Otherwise, assign the current_software_version\n",
    "    return version\n",
    "\n",
    "events['version_flag'] = events.apply(assign_version_flag, axis=1)"
   ]
  },
  {
   "cell_type": "markdown",
   "id": "701362c5",
   "metadata": {},
   "source": [
    "### calculate significance of differences\n",
    "\n",
    "calculate probabilities for a prompt for password in an infusion treatment with Medium authorization and Medium Titration set to **On**"
   ]
  },
  {
   "cell_type": "code",
   "execution_count": 15,
   "id": "3aa8f558",
   "metadata": {},
   "outputs": [
    {
     "name": "stdout",
     "output_type": "stream",
     "text": [
      "Available versions: ['11.50', '16.20', '15.10', '16.0', '13.1', '15.0', '13.23', '13.11', '11.53', '13.12', '16.10', '16.50', '13.22', '16.21']\n"
     ]
    }
   ],
   "source": [
    "versions = list(events['version'].unique())\n",
    "versions.remove('')\n",
    "print(f\"Available versions: {versions}\")"
   ]
  },
  {
   "cell_type": "code",
   "execution_count": 16,
   "id": "e2f3ec42",
   "metadata": {},
   "outputs": [
    {
     "data": {
      "application/vnd.microsoft.datawrangler.viewer.v0+json": {
       "columns": [
        {
         "name": "version",
         "rawType": "object",
         "type": "string"
        },
        {
         "name": "infusions",
         "rawType": "int64",
         "type": "integer"
        },
        {
         "name": "rate_changes",
         "rawType": "int64",
         "type": "integer"
        },
        {
         "name": "pw_fail_counts",
         "rawType": "int64",
         "type": "integer"
        },
        {
         "name": "pw_fail_probs",
         "rawType": "float64",
         "type": "float"
        }
       ],
       "ref": "55905873-a8a8-4bae-bd28-726c791ccccc",
       "rows": [
        [
         "11.50",
         "0",
         "0",
         "0",
         null
        ],
        [
         "16.20",
         "198",
         "2",
         "6",
         "3.0303030303030303"
        ],
        [
         "15.10",
         "40",
         "3",
         "1",
         "2.5"
        ],
        [
         "16.0",
         "7",
         "0",
         "1",
         "14.285714285714286"
        ],
        [
         "13.1",
         "0",
         "0",
         "0",
         null
        ],
        [
         "15.0",
         "14",
         "0",
         "1",
         "7.142857142857143"
        ],
        [
         "13.23",
         "0",
         "0",
         "0",
         null
        ],
        [
         "13.11",
         "0",
         "0",
         "0",
         null
        ],
        [
         "11.53",
         "0",
         "0",
         "0",
         null
        ],
        [
         "13.12",
         "0",
         "0",
         "0",
         null
        ],
        [
         "16.10",
         "6",
         "0",
         "1",
         "16.666666666666668"
        ],
        [
         "16.50",
         "14",
         "0",
         "12",
         "85.71428571428571"
        ],
        [
         "13.22",
         "0",
         "0",
         "0",
         null
        ],
        [
         "16.21",
         "0",
         "0",
         "0",
         null
        ]
       ],
       "shape": {
        "columns": 4,
        "rows": 14
       }
      },
      "text/html": [
       "<div>\n",
       "<style scoped>\n",
       "    .dataframe tbody tr th:only-of-type {\n",
       "        vertical-align: middle;\n",
       "    }\n",
       "\n",
       "    .dataframe tbody tr th {\n",
       "        vertical-align: top;\n",
       "    }\n",
       "\n",
       "    .dataframe thead th {\n",
       "        text-align: right;\n",
       "    }\n",
       "</style>\n",
       "<table border=\"1\" class=\"dataframe\">\n",
       "  <thead>\n",
       "    <tr style=\"text-align: right;\">\n",
       "      <th></th>\n",
       "      <th>infusions</th>\n",
       "      <th>rate_changes</th>\n",
       "      <th>pw_fail_counts</th>\n",
       "      <th>pw_fail_probs</th>\n",
       "    </tr>\n",
       "    <tr>\n",
       "      <th>version</th>\n",
       "      <th></th>\n",
       "      <th></th>\n",
       "      <th></th>\n",
       "      <th></th>\n",
       "    </tr>\n",
       "  </thead>\n",
       "  <tbody>\n",
       "    <tr>\n",
       "      <th>11.50</th>\n",
       "      <td>0</td>\n",
       "      <td>0</td>\n",
       "      <td>0</td>\n",
       "      <td>NaN</td>\n",
       "    </tr>\n",
       "    <tr>\n",
       "      <th>16.20</th>\n",
       "      <td>198</td>\n",
       "      <td>2</td>\n",
       "      <td>6</td>\n",
       "      <td>3.030303</td>\n",
       "    </tr>\n",
       "    <tr>\n",
       "      <th>15.10</th>\n",
       "      <td>40</td>\n",
       "      <td>3</td>\n",
       "      <td>1</td>\n",
       "      <td>2.500000</td>\n",
       "    </tr>\n",
       "    <tr>\n",
       "      <th>16.0</th>\n",
       "      <td>7</td>\n",
       "      <td>0</td>\n",
       "      <td>1</td>\n",
       "      <td>14.285714</td>\n",
       "    </tr>\n",
       "    <tr>\n",
       "      <th>13.1</th>\n",
       "      <td>0</td>\n",
       "      <td>0</td>\n",
       "      <td>0</td>\n",
       "      <td>NaN</td>\n",
       "    </tr>\n",
       "    <tr>\n",
       "      <th>15.0</th>\n",
       "      <td>14</td>\n",
       "      <td>0</td>\n",
       "      <td>1</td>\n",
       "      <td>7.142857</td>\n",
       "    </tr>\n",
       "    <tr>\n",
       "      <th>13.23</th>\n",
       "      <td>0</td>\n",
       "      <td>0</td>\n",
       "      <td>0</td>\n",
       "      <td>NaN</td>\n",
       "    </tr>\n",
       "    <tr>\n",
       "      <th>13.11</th>\n",
       "      <td>0</td>\n",
       "      <td>0</td>\n",
       "      <td>0</td>\n",
       "      <td>NaN</td>\n",
       "    </tr>\n",
       "    <tr>\n",
       "      <th>11.53</th>\n",
       "      <td>0</td>\n",
       "      <td>0</td>\n",
       "      <td>0</td>\n",
       "      <td>NaN</td>\n",
       "    </tr>\n",
       "    <tr>\n",
       "      <th>13.12</th>\n",
       "      <td>0</td>\n",
       "      <td>0</td>\n",
       "      <td>0</td>\n",
       "      <td>NaN</td>\n",
       "    </tr>\n",
       "    <tr>\n",
       "      <th>16.10</th>\n",
       "      <td>6</td>\n",
       "      <td>0</td>\n",
       "      <td>1</td>\n",
       "      <td>16.666667</td>\n",
       "    </tr>\n",
       "    <tr>\n",
       "      <th>16.50</th>\n",
       "      <td>14</td>\n",
       "      <td>0</td>\n",
       "      <td>12</td>\n",
       "      <td>85.714286</td>\n",
       "    </tr>\n",
       "    <tr>\n",
       "      <th>13.22</th>\n",
       "      <td>0</td>\n",
       "      <td>0</td>\n",
       "      <td>0</td>\n",
       "      <td>NaN</td>\n",
       "    </tr>\n",
       "    <tr>\n",
       "      <th>16.21</th>\n",
       "      <td>0</td>\n",
       "      <td>0</td>\n",
       "      <td>0</td>\n",
       "      <td>NaN</td>\n",
       "    </tr>\n",
       "  </tbody>\n",
       "</table>\n",
       "</div>"
      ],
      "text/plain": [
       "         infusions  rate_changes  pw_fail_counts  pw_fail_probs\n",
       "version                                                        \n",
       "11.50            0             0               0            NaN\n",
       "16.20          198             2               6       3.030303\n",
       "15.10           40             3               1       2.500000\n",
       "16.0             7             0               1      14.285714\n",
       "13.1             0             0               0            NaN\n",
       "15.0            14             0               1       7.142857\n",
       "13.23            0             0               0            NaN\n",
       "13.11            0             0               0            NaN\n",
       "11.53            0             0               0            NaN\n",
       "13.12            0             0               0            NaN\n",
       "16.10            6             0               1      16.666667\n",
       "16.50           14             0              12      85.714286\n",
       "13.22            0             0               0            NaN\n",
       "16.21            0             0               0            NaN"
      ]
     },
     "metadata": {},
     "output_type": "display_data"
    }
   ],
   "source": [
    "infusions = []\n",
    "rate_changes = []\n",
    "pw_fails_indices = []\n",
    "pw_fail_counts = []\n",
    "pw_fail_probs = []\n",
    "pw_fails_modes = []\n",
    "for ver in versions:\n",
    "    infusion = events.loc[(events['version'] == ver)  &\n",
    "                                      (events['code'].isin([202, 73])) &\n",
    "                                      (events['level'] == 'Medium') &\n",
    "                                      (events['med_tit'])].shape[0]\n",
    "    infusions.append(infusion)\n",
    "    rate_change = events.loc[(events['version'] == ver)  &\n",
    "                                      (events['code'] == 376) &\n",
    "                                      (events['level'] == 'Medium') &\n",
    "                                      (events['med_tit'])].shape[0]\n",
    "    rate_changes.append(rate_change)\n",
    "    pw_fail_idx = events.loc[(events['version'] == ver)  &\n",
    "                                      (events['code'] == 387) &\n",
    "                                      (events['level'] == 'Medium') &\n",
    "                                      (events['med_tit'])].index\n",
    "    pw_fails_indices.append(pw_fail_idx)\n",
    "    modes = events.loc[pw_fail_idx, 'mode'].value_counts()\n",
    "    modes = modes/modes.sum()\n",
    "    pw_fails_modes.append(modes)\n",
    "    pw_fail_count = len(events.loc[pw_fail_idx].groupby('treatment_assignment'))\n",
    "    pw_fail_counts.append(pw_fail_count)\n",
    "    if infusion != 0:\n",
    "        pw_fail_prob = 100 * pw_fail_count/infusion\n",
    "    else:\n",
    "        pw_fail_prob = np.nan\n",
    "    pw_fail_probs.append(pw_fail_prob)\n",
    "\n",
    "# Create a summary DataFrame for the calculated statistics\n",
    "summary_df = pd.DataFrame({\n",
    "    'infusions': infusions,\n",
    "    'rate_changes': rate_changes,\n",
    "    'pw_fail_counts': pw_fail_counts,\n",
    "    'pw_fail_probs': pw_fail_probs\n",
    "}, index=versions)\n",
    "# Set index name\n",
    "summary_df.index.name = 'version'\n",
    "display(summary_df)"
   ]
  },
  {
   "cell_type": "code",
   "execution_count": 17,
   "id": "50f6e994",
   "metadata": {},
   "outputs": [
    {
     "data": {
      "application/vnd.microsoft.datawrangler.viewer.v0+json": {
       "columns": [
        {
         "name": "index",
         "rawType": "object",
         "type": "string"
        },
        {
         "name": "Continuous",
         "rawType": "float64",
         "type": "float"
        },
        {
         "name": "PCA",
         "rawType": "float64",
         "type": "float"
        },
        {
         "name": "Multi-step",
         "rawType": "float64",
         "type": "float"
        },
        {
         "name": "Intermittent",
         "rawType": "float64",
         "type": "float"
        },
        {
         "name": "Epidural PCA",
         "rawType": "float64",
         "type": "float"
        },
        {
         "name": "TPN",
         "rawType": "float64",
         "type": "float"
        },
        {
         "name": "Epidural Intermittent",
         "rawType": "float64",
         "type": "float"
        }
       ],
       "ref": "2f546ee6-c407-4c64-a5a8-c172a86e9ca4",
       "rows": [
        [
         "16.20",
         "0.6190476190476191",
         "0.36054421768707484",
         "0.013605442176870748",
         "0.006802721088435374",
         null,
         null,
         null
        ],
        [
         "15.10",
         "0.26666666666666666",
         "0.06666666666666667",
         null,
         null,
         "0.5555555555555556",
         "0.06666666666666667",
         "0.044444444444444446"
        ],
        [
         "16.0",
         null,
         null,
         "1.0",
         null,
         null,
         null,
         null
        ],
        [
         "15.0",
         null,
         "1.0",
         null,
         null,
         null,
         null,
         null
        ],
        [
         "16.10",
         null,
         "1.0",
         null,
         null,
         null,
         null,
         null
        ],
        [
         "16.50",
         "0.22857142857142856",
         "0.17142857142857143",
         "0.2857142857142857",
         null,
         "0.22857142857142856",
         null,
         "0.08571428571428572"
        ]
       ],
       "shape": {
        "columns": 7,
        "rows": 6
       }
      },
      "text/html": [
       "<div>\n",
       "<style scoped>\n",
       "    .dataframe tbody tr th:only-of-type {\n",
       "        vertical-align: middle;\n",
       "    }\n",
       "\n",
       "    .dataframe tbody tr th {\n",
       "        vertical-align: top;\n",
       "    }\n",
       "\n",
       "    .dataframe thead th {\n",
       "        text-align: right;\n",
       "    }\n",
       "</style>\n",
       "<table border=\"1\" class=\"dataframe\">\n",
       "  <thead>\n",
       "    <tr style=\"text-align: right;\">\n",
       "      <th>mode</th>\n",
       "      <th>Continuous</th>\n",
       "      <th>PCA</th>\n",
       "      <th>Multi-step</th>\n",
       "      <th>Intermittent</th>\n",
       "      <th>Epidural PCA</th>\n",
       "      <th>TPN</th>\n",
       "      <th>Epidural Intermittent</th>\n",
       "    </tr>\n",
       "  </thead>\n",
       "  <tbody>\n",
       "    <tr>\n",
       "      <th>16.20</th>\n",
       "      <td>0.619048</td>\n",
       "      <td>0.360544</td>\n",
       "      <td>0.013605</td>\n",
       "      <td>0.006803</td>\n",
       "      <td>NaN</td>\n",
       "      <td>NaN</td>\n",
       "      <td>NaN</td>\n",
       "    </tr>\n",
       "    <tr>\n",
       "      <th>15.10</th>\n",
       "      <td>0.266667</td>\n",
       "      <td>0.066667</td>\n",
       "      <td>NaN</td>\n",
       "      <td>NaN</td>\n",
       "      <td>0.555556</td>\n",
       "      <td>0.066667</td>\n",
       "      <td>0.044444</td>\n",
       "    </tr>\n",
       "    <tr>\n",
       "      <th>16.0</th>\n",
       "      <td>NaN</td>\n",
       "      <td>NaN</td>\n",
       "      <td>1.000000</td>\n",
       "      <td>NaN</td>\n",
       "      <td>NaN</td>\n",
       "      <td>NaN</td>\n",
       "      <td>NaN</td>\n",
       "    </tr>\n",
       "    <tr>\n",
       "      <th>15.0</th>\n",
       "      <td>NaN</td>\n",
       "      <td>1.000000</td>\n",
       "      <td>NaN</td>\n",
       "      <td>NaN</td>\n",
       "      <td>NaN</td>\n",
       "      <td>NaN</td>\n",
       "      <td>NaN</td>\n",
       "    </tr>\n",
       "    <tr>\n",
       "      <th>16.10</th>\n",
       "      <td>NaN</td>\n",
       "      <td>1.000000</td>\n",
       "      <td>NaN</td>\n",
       "      <td>NaN</td>\n",
       "      <td>NaN</td>\n",
       "      <td>NaN</td>\n",
       "      <td>NaN</td>\n",
       "    </tr>\n",
       "    <tr>\n",
       "      <th>16.50</th>\n",
       "      <td>0.228571</td>\n",
       "      <td>0.171429</td>\n",
       "      <td>0.285714</td>\n",
       "      <td>NaN</td>\n",
       "      <td>0.228571</td>\n",
       "      <td>NaN</td>\n",
       "      <td>0.085714</td>\n",
       "    </tr>\n",
       "  </tbody>\n",
       "</table>\n",
       "</div>"
      ],
      "text/plain": [
       "mode   Continuous       PCA  Multi-step  Intermittent  Epidural PCA       TPN  \\\n",
       "16.20    0.619048  0.360544    0.013605      0.006803           NaN       NaN   \n",
       "15.10    0.266667  0.066667         NaN           NaN      0.555556  0.066667   \n",
       "16.0          NaN       NaN    1.000000           NaN           NaN       NaN   \n",
       "15.0          NaN  1.000000         NaN           NaN           NaN       NaN   \n",
       "16.10         NaN  1.000000         NaN           NaN           NaN       NaN   \n",
       "16.50    0.228571  0.171429    0.285714           NaN      0.228571       NaN   \n",
       "\n",
       "mode   Epidural Intermittent  \n",
       "16.20                    NaN  \n",
       "15.10               0.044444  \n",
       "16.0                     NaN  \n",
       "15.0                     NaN  \n",
       "16.10                    NaN  \n",
       "16.50               0.085714  "
      ]
     },
     "metadata": {},
     "output_type": "display_data"
    }
   ],
   "source": [
    "modes_df = pd.DataFrame(pw_fails_modes, index=versions)\n",
    "modes_df = modes_df.dropna(how='all')\n",
    "display(modes_df)"
   ]
  },
  {
   "cell_type": "code",
   "execution_count": 18,
   "id": "84dca04f",
   "metadata": {},
   "outputs": [
    {
     "data": {
      "image/png": "[encoded data removed]",
      "text/plain": [
       "<Figure size 1000x600 with 1 Axes>"
      ]
     },
     "metadata": {},
     "output_type": "display_data"
    }
   ],
   "source": [
    "modes_df_filled = modes_df.fillna(0)\n",
    "modes_long = modes_df_filled.reset_index().melt(id_vars='index', var_name='mode', value_name='proportion')\n",
    "modes_long = modes_long.rename(columns={'index': 'version'})\n",
    "plt.figure(figsize=(10, 6))\n",
    "sns.barplot(data=modes_long, x='mode', y='proportion', hue='version')\n",
    "plt.title('Distribution of Password Fail Modes by Version')\n",
    "plt.ylabel('Proportion')\n",
    "plt.xlabel('Mode')\n",
    "plt.legend(title='Version')\n",
    "plt.tight_layout()\n",
    "plt.show()"
   ]
  },
  {
   "cell_type": "code",
   "execution_count": 35,
   "id": "33b9443e",
   "metadata": {},
   "outputs": [
    {
     "data": {
      "application/vnd.microsoft.datawrangler.viewer.v0+json": {
       "columns": [
        {
         "name": "index",
         "rawType": "int64",
         "type": "integer"
        },
        {
         "name": "code",
         "rawType": "int64",
         "type": "integer"
        },
        {
         "name": "dateTime",
         "rawType": "datetime64[ns, UTC]",
         "type": "unknown"
        },
        {
         "name": "description",
         "rawType": "object",
         "type": "string"
        },
        {
         "name": "serialNumber",
         "rawType": "int64",
         "type": "integer"
        },
        {
         "name": "index",
         "rawType": "int64",
         "type": "integer"
        },
        {
         "name": "values",
         "rawType": "object",
         "type": "string"
        },
        {
         "name": "med_tit",
         "rawType": "object",
         "type": "unknown"
        },
        {
         "name": "level",
         "rawType": "object",
         "type": "string"
        },
        {
         "name": "mode",
         "rawType": "object",
         "type": "string"
        },
        {
         "name": "version",
         "rawType": "object",
         "type": "string"
        },
        {
         "name": "status_change_flag",
         "rawType": "object",
         "type": "unknown"
        },
        {
         "name": "treatment_assignment",
         "rawType": "object",
         "type": "string"
        },
        {
         "name": "version_flag",
         "rawType": "object",
         "type": "string"
        }
       ],
       "ref": "74af4433-4160-4dc3-8332-3745270d29ef",
       "rows": [
        [
         "15",
         "57",
         "2022-05-09 18:11:36+00:00",
         "Power on",
         "300316813",
         "1",
         "[]",
         "False",
         "Medium",
         "",
         "",
         "False",
         "serial_missing",
         "NA"
        ],
        [
         "135",
         "123",
         "2000-01-01 01:02:16+00:00",
         "Software uploaded 11.50.0  6028",
         "300428195",
         "6",
         "['11', '50', '0', '', '6028']",
         "False",
         "Technician",
         "",
         "11.50",
         "True",
         "out_of_treatment",
         "NA"
        ],
        [
         "137",
         "123",
         "2000-01-01 01:03:33+00:00",
         "Software uploaded 11.50.0  60496",
         "300413333",
         "6",
         "['11', '50', '0', '', '60496']",
         "False",
         "Technician",
         "",
         "11.50",
         "True",
         "out_of_treatment",
         "NA"
        ],
        [
         "151",
         "123",
         "2000-01-01 00:57:06+00:00",
         "Software uploaded 11.50.0  60496",
         "300419541",
         "6",
         "['11', '50', '0', '', '60496']",
         "False",
         "Technician",
         "",
         "11.50",
         "True",
         "out_of_treatment",
         "NA"
        ],
        [
         "154",
         "123",
         "2000-01-01 01:07:23+00:00",
         "Software uploaded 11.50.0  6028",
         "300433481",
         "6",
         "['11', '50', '0', '', '6028']",
         "False",
         "Technician",
         "",
         "11.50",
         "True",
         "out_of_treatment",
         "NA"
        ]
       ],
       "shape": {
        "columns": 13,
        "rows": 5
       }
      },
      "text/html": [
       "<div>\n",
       "<style scoped>\n",
       "    .dataframe tbody tr th:only-of-type {\n",
       "        vertical-align: middle;\n",
       "    }\n",
       "\n",
       "    .dataframe tbody tr th {\n",
       "        vertical-align: top;\n",
       "    }\n",
       "\n",
       "    .dataframe thead th {\n",
       "        text-align: right;\n",
       "    }\n",
       "</style>\n",
       "<table border=\"1\" class=\"dataframe\">\n",
       "  <thead>\n",
       "    <tr style=\"text-align: right;\">\n",
       "      <th></th>\n",
       "      <th>code</th>\n",
       "      <th>dateTime</th>\n",
       "      <th>description</th>\n",
       "      <th>serialNumber</th>\n",
       "      <th>index</th>\n",
       "      <th>values</th>\n",
       "      <th>med_tit</th>\n",
       "      <th>level</th>\n",
       "      <th>mode</th>\n",
       "      <th>version</th>\n",
       "      <th>status_change_flag</th>\n",
       "      <th>treatment_assignment</th>\n",
       "      <th>version_flag</th>\n",
       "    </tr>\n",
       "  </thead>\n",
       "  <tbody>\n",
       "    <tr>\n",
       "      <th>15</th>\n",
       "      <td>57</td>\n",
       "      <td>2022-05-09 18:11:36+00:00</td>\n",
       "      <td>Power on</td>\n",
       "      <td>300316813</td>\n",
       "      <td>1</td>\n",
       "      <td>[]</td>\n",
       "      <td>False</td>\n",
       "      <td>Medium</td>\n",
       "      <td></td>\n",
       "      <td></td>\n",
       "      <td>False</td>\n",
       "      <td>serial_missing</td>\n",
       "      <td>NA</td>\n",
       "    </tr>\n",
       "    <tr>\n",
       "      <th>135</th>\n",
       "      <td>123</td>\n",
       "      <td>2000-01-01 01:02:16+00:00</td>\n",
       "      <td>Software uploaded 11.50.0  6028</td>\n",
       "      <td>300428195</td>\n",
       "      <td>6</td>\n",
       "      <td>['11', '50', '0', '', '6028']</td>\n",
       "      <td>False</td>\n",
       "      <td>Technician</td>\n",
       "      <td></td>\n",
       "      <td>11.50</td>\n",
       "      <td>True</td>\n",
       "      <td>out_of_treatment</td>\n",
       "      <td>NA</td>\n",
       "    </tr>\n",
       "    <tr>\n",
       "      <th>137</th>\n",
       "      <td>123</td>\n",
       "      <td>2000-01-01 01:03:33+00:00</td>\n",
       "      <td>Software uploaded 11.50.0  60496</td>\n",
       "      <td>300413333</td>\n",
       "      <td>6</td>\n",
       "      <td>['11', '50', '0', '', '60496']</td>\n",
       "      <td>False</td>\n",
       "      <td>Technician</td>\n",
       "      <td></td>\n",
       "      <td>11.50</td>\n",
       "      <td>True</td>\n",
       "      <td>out_of_treatment</td>\n",
       "      <td>NA</td>\n",
       "    </tr>\n",
       "    <tr>\n",
       "      <th>151</th>\n",
       "      <td>123</td>\n",
       "      <td>2000-01-01 00:57:06+00:00</td>\n",
       "      <td>Software uploaded 11.50.0  60496</td>\n",
       "      <td>300419541</td>\n",
       "      <td>6</td>\n",
       "      <td>['11', '50', '0', '', '60496']</td>\n",
       "      <td>False</td>\n",
       "      <td>Technician</td>\n",
       "      <td></td>\n",
       "      <td>11.50</td>\n",
       "      <td>True</td>\n",
       "      <td>out_of_treatment</td>\n",
       "      <td>NA</td>\n",
       "    </tr>\n",
       "    <tr>\n",
       "      <th>154</th>\n",
       "      <td>123</td>\n",
       "      <td>2000-01-01 01:07:23+00:00</td>\n",
       "      <td>Software uploaded 11.50.0  6028</td>\n",
       "      <td>300433481</td>\n",
       "      <td>6</td>\n",
       "      <td>['11', '50', '0', '', '6028']</td>\n",
       "      <td>False</td>\n",
       "      <td>Technician</td>\n",
       "      <td></td>\n",
       "      <td>11.50</td>\n",
       "      <td>True</td>\n",
       "      <td>out_of_treatment</td>\n",
       "      <td>NA</td>\n",
       "    </tr>\n",
       "  </tbody>\n",
       "</table>\n",
       "</div>"
      ],
      "text/plain": [
       "     code                  dateTime                       description  \\\n",
       "15     57 2022-05-09 18:11:36+00:00                          Power on   \n",
       "135   123 2000-01-01 01:02:16+00:00   Software uploaded 11.50.0  6028   \n",
       "137   123 2000-01-01 01:03:33+00:00  Software uploaded 11.50.0  60496   \n",
       "151   123 2000-01-01 00:57:06+00:00  Software uploaded 11.50.0  60496   \n",
       "154   123 2000-01-01 01:07:23+00:00   Software uploaded 11.50.0  6028   \n",
       "\n",
       "     serialNumber  index                          values med_tit       level  \\\n",
       "15      300316813      1                              []   False      Medium   \n",
       "135     300428195      6   ['11', '50', '0', '', '6028']   False  Technician   \n",
       "137     300413333      6  ['11', '50', '0', '', '60496']   False  Technician   \n",
       "151     300419541      6  ['11', '50', '0', '', '60496']   False  Technician   \n",
       "154     300433481      6   ['11', '50', '0', '', '6028']   False  Technician   \n",
       "\n",
       "    mode version status_change_flag treatment_assignment version_flag  \n",
       "15                            False       serial_missing           NA  \n",
       "135        11.50               True     out_of_treatment           NA  \n",
       "137        11.50               True     out_of_treatment           NA  \n",
       "151        11.50               True     out_of_treatment           NA  \n",
       "154        11.50               True     out_of_treatment           NA  "
      ]
     },
     "execution_count": 35,
     "metadata": {},
     "output_type": "execute_result"
    }
   ],
   "source": [
    "events.head()"
   ]
  },
  {
   "cell_type": "code",
   "execution_count": 34,
   "id": "c123d252",
   "metadata": {},
   "outputs": [],
   "source": [
    "fail_long = []\n",
    "for indices, ver in zip(pw_fails_indices, versions):\n",
    "    if len(indices) == 0:\n",
    "        continue\n",
    "    instance_fails = events.loc[indices, 'serialNumber'].value_counts(normalize=True).to_frame('proportion').reset_index()\n",
    "    instance_fails = instance_fails.merge(accounts, left_on='serialNumber', right_on='serialNumber', how='left')\n",
    "    instance_fails.drop(columns=['serialNumber'], inplace=True)\n",
    "    instance_fails = instance_fails.assign(Version=ver)\n",
    "    fail_long.append(instance_fails)\n",
    "fail_long = pd.concat(fail_long, ignore_index=True)[['account', 'proportion', 'Version']]"
   ]
  },
  {
   "cell_type": "code",
   "execution_count": 37,
   "id": "722312f1",
   "metadata": {},
   "outputs": [
    {
     "data": {
      "image/png": "[encoded data removed]",
      "text/plain": [
       "<Figure size 800x500 with 1 Axes>"
      ]
     },
     "metadata": {},
     "output_type": "display_data"
    }
   ],
   "source": [
    "# Make grouped bar plot\n",
    "plt.figure(figsize=(8, 5))\n",
    "sns.barplot(data=fail_long, x='account', y='proportion', hue='Version')\n",
    "plt.title(\"Distribution of Infusion Modes for Password Failures by Software Version\")\n",
    "plt.ylabel(\"Bar Height\")\n",
    "plt.show()"
   ]
  },
  {
   "cell_type": "markdown",
   "id": "c9dce0de",
   "metadata": {},
   "source": [
    "perform Z-test to verify the two proportions come from different population\n",
    "\n",
    "**z-statistic** measures how many standard errors the observed difference in sample proportions is away\n",
    "\n",
    "**p-value** measures the probability of observing a difference as extreme or more extreme than the one observed, assuming the null hypothesis is true"
   ]
  },
  {
   "cell_type": "code",
   "execution_count": 41,
   "id": "df555f67",
   "metadata": {},
   "outputs": [
    {
     "name": "stdout",
     "output_type": "stream",
     "text": [
      "Z-statistic 16.50 vs 16.20: -10.7263, p-value: 0.0000\n",
      "Z-statistic 16.20 vs 15.0: -0.8322, p-value: 0.4053\n"
     ]
    }
   ],
   "source": [
    "\n",
    "count = [summary_df.loc['16.20', 'pw_fail_counts'], summary_df.loc['16.50', 'pw_fail_counts']]  # number of successes in each sample\n",
    "nobs =  [summary_df.loc['16.20', 'infusions'], summary_df.loc['16.50', 'infusions']]  # number of trials in each sample\n",
    "\n",
    "stat, pval = proportions_ztest(count, nobs)\n",
    "print(f\"Z-statistic 16.50 vs 16.20: {stat:.4f}, p-value: {pval:.4f}\")\n",
    "\n",
    "count = [summary_df.loc['16.20', 'pw_fail_counts'], summary_df.loc['15.0', 'pw_fail_counts']]  # number of successes in each sample\n",
    "nobs =  [summary_df.loc['16.20', 'infusions'], summary_df.loc['15.0', 'infusions']]  # number of trials in each sample\n",
    "\n",
    "stat, pval = proportions_ztest(count, nobs)\n",
    "print(f\"Z-statistic 16.20 vs 15.0: {stat:.4f}, p-value: {pval:.4f}\")"
   ]
  },
  {
   "cell_type": "markdown",
   "id": "8f7e95cb",
   "metadata": {},
   "source": [
    "Absolute value of Z-statistic for 16.20 vs. 16.50 is **very** high almost certainly not due to chance. The p-value is very small ⇨ this difference is likely significant.\n",
    "\n",
    "As a reference, the Z-statistic for 16.20 vs 15.0 is interpreted as these two ratios being drawn from the same population."
   ]
  },
  {
   "cell_type": "markdown",
   "id": "bbea69cd",
   "metadata": {},
   "source": [
    "### Conclusions"
   ]
  },
  {
   "cell_type": "markdown",
   "id": "d6422cda",
   "metadata": {},
   "source": [
    "1. The number of occurrences is very small.\n",
    "2. Number of affected pumps (worldwide) estimated ~ 1100.\n",
    "3. Affected pumps are associated with Eitan Medical accounts.\n",
    "4. Extremely significant difference; almost zero chance this difference is random."
   ]
  }
 ],
 "metadata": {
  "kernelspec": {
   "display_name": ".venv",
   "language": "python",
   "name": "python3"
  },
  "language_info": {
   "codemirror_mode": {
    "name": "ipython",
    "version": 3
   },
   "file_extension": ".py",
   "mimetype": "text/x-python",
   "name": "python",
   "nbconvert_exporter": "python",
   "pygments_lexer": "ipython3",
   "version": "3.13.5"
  }
 },
 "nbformat": 4,
 "nbformat_minor": 5
}
